{
 "cells": [
  {
   "cell_type": "code",
   "execution_count": null,
   "metadata": {},
   "outputs": [],
   "source": [
    "#ch.1 1번\n",
    "\n",
    "name=str(input(\"이름을 입력:\")) \n",
    "age=int(input(\"나이를 입력:\")) \n",
    "year=2019+100-age \n",
    "print(name,\"씨는\",year,\"년에 100살입니다\")"
   ]
  },
  {
   "cell_type": "code",
   "execution_count": null,
   "metadata": {},
   "outputs": [],
   "source": [
    "#ch.1 2번\n",
    "\n",
    "one=int(input(\"첫번째 값 입력:\")) \n",
    "two=int(input(\"두번째 값 입력:\")) \n",
    "three=int(input(\"세번째 값 입력:\")) \n",
    "total=(one+two+three)/3 \n",
    "print(one, two, three,\"입력된값의 평균값은\",total, \"입니다.\")"
   ]
  },
  {
   "cell_type": "code",
   "execution_count": null,
   "metadata": {},
   "outputs": [],
   "source": [
    "#ch.1 3번\n",
    "radius=int(input(\"반지름을 입력하시오:\")) \n",
    "area=radius*radius*3.141592 \n",
    "print(\"반지름이\",radius,\"인 원의 넓이 =\",area)"
   ]
  },
  {
   "cell_type": "code",
   "execution_count": null,
   "metadata": {},
   "outputs": [],
   "source": [
    "#ch.2 1번\n",
    "name=str(input(\"이름을 입력:\")) \n",
    "age=int(input(\"나이를 입력:\")) \n",
    "year=2019+100-age \n",
    "print(name,\"씨는\",year,\"년에 100살입니다\")"
   ]
  },
  {
   "cell_type": "code",
   "execution_count": null,
   "metadata": {},
   "outputs": [],
   "source": [
    "#ch.2 2번\n",
    "one=int(input(\"첫번째 값 입력:\")) \n",
    "two=int(input(\"두번째 값 입력:\")) \n",
    "three=int(input(\"세번째 값 입력:\")) \n",
    "total=(one+two+three)/3 \n",
    "print(one, two, three,\"입력된값의 평균값은\",total, \"입니다.\")"
   ]
  },
  {
   "cell_type": "code",
   "execution_count": null,
   "metadata": {},
   "outputs": [],
   "source": [
    "#ch.2 3번\n",
    "radius=int(input(\"반지름을 입력하시오:\")) \n",
    "area=radius*radius*3.141592 \n",
    "print(\"반지름이\",radius,\"인 원의 넓이 =\",area)"
   ]
  },
  {
   "cell_type": "code",
   "execution_count": null,
   "metadata": {},
   "outputs": [],
   "source": [
    "#ch.3 1번\n",
    "x = int(input('x:'))\n",
    "\n",
    "y = int(input('y:'))\n",
    "\n",
    "plus = x+y # 두수의 합\n",
    "\n",
    "mi = y-x # 두수의 차\n",
    "\n",
    "mult = x*y # 두수의 곱\n",
    "\n",
    "total = (x+y) / 2 # 두수의 평균 \n",
    "\n",
    "print('두수의 합', plus,'\\n두수의 차', mi,'\\n두수의 곱',mult,' \\n두수의 평균',total)\n",
    "\n",
    "print('큰수',max(x,y),'\\n작은수',min(x,y))"
   ]
  },
  {
   "cell_type": "code",
   "execution_count": null,
   "metadata": {},
   "outputs": [],
   "source": [
    "#ch.3 2번\n",
    "r = int(input('r:')) # 반지름 \n",
    "\n",
    "h = int(input('h:')) # 높이\n",
    "\n",
    "vol = (3.141592 * r **2 ) * h # Fir^2 *h\n",
    "\n",
    "print('원의 기둥 부피 : ',vol)"
   ]
  },
  {
   "cell_type": "code",
   "execution_count": null,
   "metadata": {},
   "outputs": [],
   "source": [
    "#ch.3 3번\n",
    "i = int(input('정수를입력 : '))\n",
    "\n",
    "t = i // 1000 #천의자리\n",
    "\n",
    "m = (i % 1000) // 100 #백의자리\n",
    "\n",
    "ten = ((i % 1000) % 100) // 10 #십의자리\n",
    "\n",
    "one = (((i % 1000) % 100) % 10) // 1 #일의자리\n",
    "\n",
    "Sum = t + m + ten + one\n",
    "\n",
    "print(\"자리수의 합 :\", Sum) "
   ]
  },
  {
   "cell_type": "code",
   "execution_count": null,
   "metadata": {},
   "outputs": [],
   "source": [
    "#ch.3 4번\n",
    "x1 = int(input('x1: '))\n",
    "y1 = int(input('y1: '))\n",
    "\n",
    "x2 = int(input('x2: '))\n",
    "\n",
    "y2 = int(input('y2: '))\n",
    "\n",
    "xsum = (x1 – x2)**2 # x의거리\n",
    "\n",
    "ysum = (y1 – y2)**2 # y의거리\n",
    "\n",
    "total = (xsum + ysum)**0.5 # 루트제거 \n",
    "\n",
    "print('두점사이의 거리=',total)\n"
   ]
  },
  {
   "cell_type": "code",
   "execution_count": null,
   "metadata": {},
   "outputs": [],
   "source": [
    "#ch.3 7번\n",
    "\n",
    "import time\n",
    "\n",
    "t = time.time() #time함수를 호출 : 1970년 1월 1일 이후 흘러온 전체 초가 반환. \n",
    "\n",
    "h = int((t / 3600) % 24)  # 1H = 3600s 1d = 24h\n",
    "\n",
    "m = int((t / 60) % 60) # 1m = 60s\n",
    "\n",
    "print('(영국의)현재시간',h,\"시\",m,\"분\")\n"
   ]
  },
  {
   "cell_type": "code",
   "execution_count": null,
   "metadata": {},
   "outputs": [],
   "source": [
    "#ch.3 7번\n",
    "kg = int(input('무게입력:'))\n",
    "\n",
    "ms = int(input('속도입력:'))\n",
    "\n",
    "j = ( kg * ms **2)/2\n",
    "\n",
    "print(\"물체는\",j,'의 에너지를 가지고 있다.')"
   ]
  },
  {
   "cell_type": "code",
   "execution_count": null,
   "metadata": {},
   "outputs": [],
   "source": [
    "#ch.4 5번\n",
    "\n",
    "sign = input(\"기호를입력하세요:\")\n",
    "\n",
    "string = str(input(\"문자열을 입력하세요:\"))\n",
    "\n",
    "print(sign[0:1]+string+sign[1:2])\n"
   ]
  },
  {
   "cell_type": "code",
   "execution_count": 1,
   "metadata": {},
   "outputs": [
    {
     "name": "stdout",
     "output_type": "stream",
     "text": [
      "리스트 =  [1, 2, 3, 4]\n",
      "숫자들의 합 = 10\n"
     ]
    }
   ],
   "source": [
    "#ch.4 6번\n",
    "list=[1,2,3,4]\n",
    "sum=list[0]+list[1]+list[2]+list[3]\n",
    "print(\"리스트 = \",list)\n",
    "print(\"숫자들의 합 =\",sum )"
   ]
  },
  {
   "cell_type": "code",
   "execution_count": 3,
   "metadata": {},
   "outputs": [
    {
     "name": "stdout",
     "output_type": "stream",
     "text": [
      "20살 이상\n"
     ]
    }
   ],
   "source": [
    "#ch.5 1번\n",
    "\n",
    "age = 20\n",
    "\n",
    "if age < 20:\n",
    "\n",
    "    print(\"20살 미만\")\n",
    "\n",
    "else:\n",
    "\n",
    "    print(\"20살 이상\")\n"
   ]
  },
  {
   "cell_type": "code",
   "execution_count": 6,
   "metadata": {},
   "outputs": [
    {
     "name": "stdout",
     "output_type": "stream",
     "text": [
      "30살 이상 50살 미만\n"
     ]
    }
   ],
   "source": [
    "#ch.5 2번\n",
    "age = 33\n",
    "\n",
    "if (age<=50)and (age >= 30):\n",
    "\n",
    "    print(\"30살 이상 50살 미만\")\n",
    "\n",
    "else:\n",
    "\n",
    "    print(\"그 외\")\n"
   ]
  },
  {
   "cell_type": "code",
   "execution_count": 8,
   "metadata": {},
   "outputs": [
    {
     "name": "stdout",
     "output_type": "stream",
     "text": [
      "현재 온도 입력36\n",
      "반바지\n"
     ]
    }
   ],
   "source": [
    "#ch.5 3번\n",
    "c = int(input(\"현재 온도 입력\"))\n",
    "\n",
    "if c >= 25:\n",
    "\n",
    "    print(\"반바지\")\n",
    "\n",
    "else:\n",
    "\n",
    "    print(\"긴바지\")"
   ]
  },
  {
   "cell_type": "code",
   "execution_count": null,
   "metadata": {},
   "outputs": [],
   "source": [
    "#ch.5 4번\n",
    "score = int(input(\"시험점수를 입력하세요\"))\n",
    "\n",
    "total = score // 10\n",
    "\n",
    " \n",
    "\n",
    "if total == 9:\n",
    "\n",
    "    print(\"A학점\")\n",
    "\n",
    "elif total == 8:\n",
    "\n",
    "    print(\"B학점\")\n",
    "\n",
    "elif total == 7:\n",
    "\n",
    "    print(\"C학점\")\n",
    "\n",
    "elif total == 6:\n",
    "\n",
    "    print(\"D학점\")\n",
    "\n",
    "else:\n",
    "\n",
    "    print(\"F학점\")"
   ]
  },
  {
   "cell_type": "code",
   "execution_count": null,
   "metadata": {},
   "outputs": [],
   "source": [
    "#ch.5 5번\n",
    "import random\n",
    "x = random.randint(1, 100)\n",
    "y = random.randint(1, 100)\n",
    "ans = int(input(str(x) + \"-\" + str(y) + \"=\"))\n",
    "if (x-y) == ans :\n",
    "    print(\"맞았습니다\")\n",
    "else :\n",
    "    print(\"틀렸습니다\")"
   ]
  },
  {
   "cell_type": "code",
   "execution_count": null,
   "metadata": {},
   "outputs": [],
   "source": [
    "#ch.5 6번\n",
    "n = int(input(\"정수입력:\"))\n",
    "\n",
    "if n % 2 == 0 and n %3 == 0:\n",
    "\n",
    "    print(\"2, 3 으로 나누어 집니다.\")\n",
    "\n",
    "else:\n",
    "\n",
    "    print('2, 3 으로 나누어 지지 않습니다.')\n"
   ]
  },
  {
   "cell_type": "code",
   "execution_count": null,
   "metadata": {},
   "outputs": [],
   "source": [
    "#ch.5 7번\n",
    "import random\n",
    "\n",
    "lo = random.randint(1,99)\n",
    "\n",
    "print(lo) # lo의 값 \n",
    "\n",
    "user = int(input(\"번호입력 1~99 : \"))\n",
    "\n",
    " \n",
    "\n",
    "r1 = lo // 10\n",
    "\n",
    "r2 = lo % 10\n",
    "\n",
    "u1 = user // 10\n",
    "\n",
    "u2 = user % 10\n",
    "\n",
    "if lo == user:\n",
    "\n",
    "    print(\"상금 100만원\")\n",
    "\n",
    "elif r1 == u1 or r1 == u2 or r2 == u1 or r2 == u2:\n",
    "\n",
    "    print(\"상금 50만원\")\n",
    "\n",
    "else:\n",
    "\n",
    "    print(\"미당첨\")"
   ]
  },
  {
   "cell_type": "code",
   "execution_count": null,
   "metadata": {},
   "outputs": [],
   "source": [
    "#ch.6 1번\n",
    "i = 1\n",
    "while i <= 100 :\n",
    "    if i % 2 == 0 :\n",
    "        print(i, end = \" \")\n",
    "    i += 1\n"
   ]
  },
  {
   "cell_type": "code",
   "execution_count": null,
   "metadata": {},
   "outputs": [],
   "source": [
    "#ch.6 2번\n",
    "year =0\n",
    "balance = 1000\n",
    "while balance <= 2000:\n",
    "    year = year+1\n",
    "    interest = balance * 0.07\n",
    "    balance = balance + interest\n",
    "print(year, \"년이 걸립니다.\")\n",
    " "
   ]
  },
  {
   "cell_type": "code",
   "execution_count": null,
   "metadata": {},
   "outputs": [],
   "source": [
    "#ch.6 2번\n",
    "n=1234\n",
    "sum=0\n",
    "while n>0:\n",
    "    digit = n%10\n",
    "    sum=sum+digit\n",
    "    n=n//10\n",
    "print(sum)"
   ]
  },
  {
   "cell_type": "code",
   "execution_count": null,
   "metadata": {},
   "outputs": [],
   "source": [
    "#ch.6 4번\n",
    "import random\n",
    "x = random.randint(1, 10)\n",
    "y = random.randint(1, 10)\n",
    "\n",
    "while True :\n",
    "    ans = int(input(str(x) + \"*\" + str(y) + \"는 \"))\n",
    "    if ans == x*y:\n",
    "        print(\"맞았습니다.\")\n",
    "        break\n"
   ]
  },
  {
   "cell_type": "code",
   "execution_count": null,
   "metadata": {},
   "outputs": [],
   "source": [
    "#ch.6 5번\n",
    "import random\n",
    "sum =0\n",
    "while True :\n",
    "    ans = int(input(\"정수를 입력하시오 :\"))\n",
    "    if ans == 0:\n",
    "        print(\"합은 %s 입니다.\" %sum)\n",
    "        break;\n",
    "    else :\n",
    "        sum += ans\n"
   ]
  },
  {
   "cell_type": "code",
   "execution_count": null,
   "metadata": {},
   "outputs": [],
   "source": [
    "#ch.6 6번\n",
    "\n",
    "import random\n",
    "     \n",
    "for i in range(3):\n",
    "    n1 = random.randint(1,6)\n",
    "    n2 = random.randint(1,6)\n",
    "    print(\"첫번째 주사위 = %s 두번째 주사위 = %s\" %(n1, n2)) "
   ]
  },
  {
   "cell_type": "code",
   "execution_count": 2,
   "metadata": {},
   "outputs": [
    {
     "name": "stdout",
     "output_type": "stream",
     "text": [
      "=====================\n",
      "생일 축하 합니다.\n",
      "생일 축하 합니다.\n",
      "사랑하는 김민정\n",
      "생일 축하 합니다.\n"
     ]
    }
   ],
   "source": [
    "#ch.7 5번\n",
    "\n",
    "def hb(name):\n",
    "    print(\"=====================\")\n",
    "    print(\"생일 축하 합니다.\")\n",
    "    print(\"생일 축하 합니다.\")\n",
    "    print(\"사랑하는\",name)\n",
    "    print(\"생일 축하 합니다.\")\n",
    "    \n",
    "hb(\"김민정\")"
   ]
  },
  {
   "cell_type": "code",
   "execution_count": 4,
   "metadata": {},
   "outputs": [
    {
     "name": "stdout",
     "output_type": "stream",
     "text": [
      "첫번째 정수 : 10\n",
      "두번째 정수 : 20\n",
      "정수 10 + 20 의 합은?\n"
     ]
    }
   ],
   "source": [
    "#ch.7 6번\n",
    "def ADD():\n",
    "    x=int(input(\"첫번째 정수 : \"))\n",
    "    y=int(input(\"두번째 정수 : \"))\n",
    "    \n",
    "    print(\"정수\" , x,\"+\", y, \"의 합은?\")\n",
    "\n",
    "\n",
    "ADD()\n",
    "    "
   ]
  },
  {
   "cell_type": "code",
   "execution_count": 7,
   "metadata": {},
   "outputs": [
    {
     "name": "stdout",
     "output_type": "stream",
     "text": [
      "반지름이 5인 원의 면적 :78.5\n",
      "반지름이 5인 원의 둘레 :31.400000000000002\n",
      "반지름 : 9\n",
      "반지름이 9.0인 원의 면적 :254.34\n",
      "반지름이 9.0인 원의 둘레 :56.52\n"
     ]
    }
   ],
   "source": [
    "#ch.7 7번 \n",
    "\n",
    "#지정된 반지름에 대한 면적 둘레\n",
    "def circleArea(radius):\n",
    "    result = PI*radius**2\n",
    "    print(\"반지름이 \" + str(radius) + \"인 원의 면적 :\" + str(result))\n",
    "\n",
    "def circleCircumference(radius):\n",
    "     result = 2*PI*radius\n",
    "     print(\"반지름이 \" + str(radius) + \"인 원의 둘레 :\" + str(result))\n",
    "\n",
    "\n",
    "PI = 3.14\n",
    "circleArea(5)\n",
    "circleCircumference(5)\n",
    "\n",
    "\n",
    "\n",
    "# 입력한 반지름에 대한 면적과 둘레\n",
    "def circleArea(radius):\n",
    "    result = PI*radius**2\n",
    "    print(\"반지름이 \" + str(radius) + \"인 원의 면적 :\" + str(result))\n",
    "\n",
    "def circleCircumference(radius):\n",
    "     result = 2*PI*radius\n",
    "     print(\"반지름이 \" + str(radius) + \"인 원의 둘레 :\" + str(result))\n",
    "\n",
    "r = float(input(\"반지름 : \"))\n",
    "PI = 3.14\n",
    "circleArea(r)\n",
    "circleCircumference(r)\n",
    "\n"
   ]
  },
  {
   "cell_type": "code",
   "execution_count": null,
   "metadata": {},
   "outputs": [],
   "source": [
    "#CH.7 8번\n",
    "\n",
    "\n",
    "#지정된 값에 대한 결과가 출력됨\n",
    "\n",
    "def add(x,y):\n",
    "    print(\"( \" + str(x) + \" + \" + str(y) + \" ) = \" + str(x+y))\n",
    "\n",
    "def mul(x,y):\n",
    "    print(\"( \" + str(x) + \" * \" + str(y) + \" ) = \" + str(x*y))\n",
    "\n",
    "def div(x,y):\n",
    "    print(\"( \" + str(x) + \" % \" + str(y) + \" ) = \" + str(x/y))\n",
    "\n",
    "add(20, 10)\n",
    "mul(20, 10)\n",
    "div(20, 10)\n",
    "\n",
    "\n",
    "#입력한 값에 대한 결과가 출력됨\n",
    "\n",
    "def add(x,y):\n",
    "    print(\"( \" + str(x) + \" + \" + str(y) + \" ) = \" + str(x+y))\n",
    "\n",
    "def mul(x,y):\n",
    "    print(\"( \" + str(x) + \" * \" + str(y) + \" ) = \" + str(x*y))\n",
    "\n",
    "def div(x,y):\n",
    "    print(\"( \" + str(x) + \" % \" + str(y) + \" ) = \" + str(x/y))\n",
    "\n",
    "xnum  = int(input(\"x 값 : \"))\n",
    "ynum  = int(input(\"y 값 : \"))          \n",
    "add(xnum, ynum)\n",
    "mul(xnum, ynum)\n",
    "div(xnum, ynum)\n",
    "\n"
   ]
  },
  {
   "cell_type": "code",
   "execution_count": 13,
   "metadata": {},
   "outputs": [
    {
     "name": "stdout",
     "output_type": "stream",
     "text": [
      "1번째 수 : 1\n",
      "2번째 수 : 2\n",
      "3번째 수 : 3\n",
      "4번째 수 : 4\n",
      "5번째 수 : 5\n",
      "[1, 2, 3, 4, 5]\n",
      "평균 =  3.0\n"
     ]
    }
   ],
   "source": [
    "#ch.9 1번\n",
    "sum=0\n",
    "a=int(input(\"1번째 수 : \"))\n",
    "b=int(input(\"2번째 수 : \"))\n",
    "c=int(input(\"3번째 수 : \"))\n",
    "d=int(input(\"4번째 수 : \"))\n",
    "e=int(input(\"5번째 수 : \"))\n",
    "list=[]\n",
    "list.append(a)\n",
    "list.append(b)\n",
    "list.append(c)\n",
    "list.append(d)\n",
    "list.append(e)\n",
    "print(list)\n",
    "for i in range(5):\n",
    "    sum=sum+list[i]\n",
    "avg=sum/5\n",
    "print(\"평균 = \",avg)\n",
    "\n",
    "\n",
    "#입력할 정수의 개수를 정하여 계산할 수 있도록 함\n",
    "nlist = []\n",
    "avg = 0\n",
    "num = int(input(\"평균을 구할 정수의 개수 : \"))\n",
    "\n",
    "for i in range(num):\n",
    "    x = float(input(\"정수를 입력하시오 :\"))\n",
    "    nlist.append(x)\n",
    "\n",
    "for j in range(num):\n",
    "    avg = avg + nlist[j]\n",
    "\n",
    "avg = avg/num\n",
    "\n",
    "print(\"평균 = \" + str(avg))\n",
    "\n"
   ]
  },
  {
   "cell_type": "code",
   "execution_count": null,
   "metadata": {},
   "outputs": [],
   "source": [
    "#ch.9 2번\n",
    "import random \n",
    "counters=[0,0,0,0,0,0]\n",
    "\n",
    "for i in range(1000):\n",
    "    \n",
    "    value=random.randint(0,5)\n",
    "    counters[value]=counters[value]+1\n",
    "    \n",
    "print(counters)"
   ]
  },
  {
   "cell_type": "raw",
   "metadata": {},
   "source": []
  },
  {
   "cell_type": "raw",
   "metadata": {},
   "source": []
  }
 ],
 "metadata": {
  "kernelspec": {
   "display_name": "Python 3",
   "language": "python",
   "name": "python3"
  },
  "language_info": {
   "codemirror_mode": {
    "name": "ipython",
    "version": 3
   },
   "file_extension": ".py",
   "mimetype": "text/x-python",
   "name": "python",
   "nbconvert_exporter": "python",
   "pygments_lexer": "ipython3",
   "version": "3.7.6"
  }
 },
 "nbformat": 4,
 "nbformat_minor": 4
}
