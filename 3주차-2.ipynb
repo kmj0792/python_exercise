{
 "cells": [
  {
   "cell_type": "code",
   "execution_count": null,
   "metadata": {},
   "outputs": [],
   "source": [
    "#3주차 2번째 강의"
   ]
  },
  {
   "cell_type": "code",
   "execution_count": 17,
   "metadata": {},
   "outputs": [
    {
     "name": "stdout",
     "output_type": "stream",
     "text": [
      "a= 4\n",
      "b=2\n",
      "2 times 4 is 8 \n"
     ]
    }
   ],
   "source": [
    "# p.361 추가 필기 내용\n",
    "\n",
    "def mul(x,y=0):\n",
    "    print(\"a= %s\" %x)\n",
    "    print(\"b=%s\" %y)\n",
    "    return x*y\n",
    "    \n",
    "a,b=2,4\n",
    "\n",
    "print(\"%s times %s is %s \" %(a,b,mul(b,a)))"
   ]
  },
  {
   "cell_type": "code",
   "execution_count": null,
   "metadata": {},
   "outputs": [],
   "source": []
  },
  {
   "cell_type": "code",
   "execution_count": null,
   "metadata": {},
   "outputs": [],
   "source": []
  }
 ],
 "metadata": {
  "kernelspec": {
   "display_name": "Python 3",
   "language": "python",
   "name": "python3"
  },
  "language_info": {
   "codemirror_mode": {
    "name": "ipython",
    "version": 3
   },
   "file_extension": ".py",
   "mimetype": "text/x-python",
   "name": "python",
   "nbconvert_exporter": "python",
   "pygments_lexer": "ipython3",
   "version": "3.7.6"
  }
 },
 "nbformat": 4,
 "nbformat_minor": 4
}
