{
 "cells": [
  {
   "cell_type": "code",
   "execution_count": 3,
   "metadata": {},
   "outputs": [
    {
     "name": "stdout",
     "output_type": "stream",
     "text": [
      "투입한돈 :5000\n",
      "물건값 : 2600\n",
      "남은돈 : 2400\n",
      "500원 동전 개수 : 4 개\n",
      "100원 동전 개수 :  4 개\n"
     ]
    }
   ],
   "source": [
    "# p.82 자동판매기 프로그램\n",
    "money = int(input(\"투입한돈 :\" ))\n",
    "price = int(input(\"물건값 : \"))\n",
    "remain=money-price\n",
    "print(\"남은돈 :\",remain)\n",
    "five = remain //500\n",
    "one = remain % 500\n",
    "One = int(one / 100)\n",
    "print(\"500원 동전 개수 :\",five,\"개\")\n",
    "print(\"100원 동전 개수 : \" , One,\"개\")"
   ]
  },
  {
   "cell_type": "code",
   "execution_count": 6,
   "metadata": {},
   "outputs": [
    {
     "name": "stdout",
     "output_type": "stream",
     "text": [
      "연도 : 2020\n",
      "달 :5\n",
      "일 :7\n",
      "오늘은 5 / 7 / 2020\n"
     ]
    }
   ],
   "source": [
    "# p.113 도전문제 \n",
    "# 사용자로부터 현재 날짜를 받아서 \"월/일/연도\" 순으로 출력\n",
    "year = input (\"연도 : \")\n",
    "month = input (\"달 :\")\n",
    "date = input(\"일 :\")\n",
    "print(\"오늘은\" ,month, \"/\" ,date, \"/\" ,year   )"
   ]
  },
  {
   "cell_type": "code",
   "execution_count": null,
   "metadata": {},
   "outputs": [],
   "source": [
    "# ch 6 p.177\n",
    "# 1단~ 9단 구구단 출력 - while 2개 사용.\n",
    "i= int(1)\n",
    "j=int(1)\n",
    "\n",
    "while j<=9:\n",
    "    while i<=9:\n",
    "    \n",
    "        print(\" %s *%s = %s \"%(i,j,i*j),end = \"\\t\")\n",
    "        i = i+ 1\n",
    "    \n",
    "    print(\"\")\n",
    "\n",
    "    j= j+ 1\n",
    "    i=1"
   ]
  },
  {
   "cell_type": "code",
   "execution_count": 13,
   "metadata": {},
   "outputs": [
    {
     "name": "stdout",
     "output_type": "stream",
     "text": [
      "숫자를 입력하시오 :3\n",
      "계속?(yes/no0)yes\n",
      "숫자를 입력하시오 :2\n",
      "계속?(yes/no0)no\n",
      "합계는 5\n"
     ]
    }
   ],
   "source": [
    "# p.181 사용자가 입력하는 숫자의 합 계산\n",
    "z=0\n",
    "y=\"yes\"\n",
    "while y==\"yes\" :\n",
    "    x= int(input(\"숫자를 입력하시오 :\"))\n",
    "    z=z+x\n",
    "    y=input( \"계속?(yes/no0)\" )\n",
    "print(\"합계는\",z)"
   ]
  },
  {
   "cell_type": "code",
   "execution_count": null,
   "metadata": {},
   "outputs": [],
   "source": []
  },
  {
   "cell_type": "code",
   "execution_count": null,
   "metadata": {},
   "outputs": [
    {
     "name": "stdout",
     "output_type": "stream",
     "text": [
      " *1~100 사이의 숫자 맞추기 게임* \n"
     ]
    }
   ],
   "source": [
    "import random\n",
    "tries = 0 \n",
    "guess=0\n",
    "answer=random.randint(1,100)\n",
    "print( \" *1~100 사이의 숫자 맞추기 게임* \")\n",
    "\n",
    "while guess!=answer:\n",
    "    guess=int(input(\"숫자를 입력하시오 :\"))\n",
    "    tries+=1\n",
    "    if guess<answer:\n",
    "        print(\"더 큰수를 입력해라\")\n",
    "    elif guess>answer:\n",
    "        print(\"더 작은 수를 입력해라\")\n",
    "        \n",
    "if guess == answer:\n",
    "    print(\"축하합니다 정답입니다 시도횟수는 %s\"%tries)\n",
    "else:\n",
    "    print(\"정답은 %s\"%answer)\n"
   ]
  },
  {
   "cell_type": "code",
   "execution_count": null,
   "metadata": {},
   "outputs": [],
   "source": [
    "#ch.5 연습문제5번\n",
    "x = random.randint(1, 100)\n",
    "y = random.randint(1, 100)\n",
    "ans = int(input(str(x) + \"-\" + str(y) + \"=\"))\n",
    "if (x-y) == ans :\n",
    "    print(\"맞았습니다\")\n",
    "else :\n",
    "    print(\"틀렸습니다\")\n"
   ]
  },
  {
   "cell_type": "code",
   "execution_count": null,
   "metadata": {},
   "outputs": [],
   "source": []
  },
  {
   "cell_type": "code",
   "execution_count": null,
   "metadata": {},
   "outputs": [],
   "source": []
  }
 ],
 "metadata": {
  "kernelspec": {
   "display_name": "Python 3",
   "language": "python",
   "name": "python3"
  },
  "language_info": {
   "codemirror_mode": {
    "name": "ipython",
    "version": 3
   },
   "file_extension": ".py",
   "mimetype": "text/x-python",
   "name": "python",
   "nbconvert_exporter": "python",
   "pygments_lexer": "ipython3",
   "version": "3.7.6"
  }
 },
 "nbformat": 4,
 "nbformat_minor": 4
}
