{
 "cells": [
  {
   "cell_type": "code",
   "execution_count": null,
   "metadata": {},
   "outputs": [],
   "source": [
    "# ch.7 함수만들어보기 p.201\n",
    "def print_address():\n",
    "    print(\"충청북도 청주시 성화동\")\n",
    "    print(\"다안채아파트 12층\")\n",
    "    print(\"김민정\")"
   ]
  },
  {
   "cell_type": "code",
   "execution_count": null,
   "metadata": {},
   "outputs": [],
   "source": [
    "print_address()"
   ]
  },
  {
   "cell_type": "code",
   "execution_count": null,
   "metadata": {},
   "outputs": [],
   "source": [
    "#ch.7 p.202\n",
    "def print_address(name): # 이름을 외부에서 전달받는 함수\n",
    "    print(\"충북 청주시 성화동\")\n",
    "    print(\"다안채아파트 12층\")\n",
    "    print(name)"
   ]
  },
  {
   "cell_type": "code",
   "execution_count": null,
   "metadata": {},
   "outputs": [],
   "source": [
    "print_address(\"김민정\")"
   ]
  },
  {
   "cell_type": "code",
   "execution_count": null,
   "metadata": {},
   "outputs": [],
   "source": [
    "# p.203  반지름값을 보내면 원의 면적을 구하는 함수 생성\n",
    "def circle(radius):\n",
    "    area=3.14*radius**2\n",
    "    return area"
   ]
  },
  {
   "cell_type": "code",
   "execution_count": null,
   "metadata": {},
   "outputs": [],
   "source": [
    "\n",
    "print(circle(5))\n"
   ]
  },
  {
   "cell_type": "code",
   "execution_count": null,
   "metadata": {},
   "outputs": [],
   "source": [
    "# p.205 start~end 까지의 합\n",
    "def get_sum(start,end):\n",
    "    sum=0\n",
    "    for i in range(start,end+1):\n",
    "        sum=i+sum\n",
    "    return sum\n",
    "print(get_sum(1,10))"
   ]
  },
  {
   "cell_type": "code",
   "execution_count": null,
   "metadata": {},
   "outputs": [],
   "source": [
    "# p..206 정사각형 그리는 함수square + 육각형 그리는 함수 six\n",
    "\n",
    "import turtle\n",
    "t=turtle.Turtle()\n",
    "t.color(\"pink\")\n",
    "t.shape(\"turtle\")\n",
    "\n",
    "# 정사각형 그리는 함수\n",
    "#def square(lenth):\n",
    "    #t.forward(lenth)\n",
    "    #t.left(90)\n",
    "    #t.forward(lenth)\n",
    "    #t.left(90)\n",
    "    #t.forward(lenth)\n",
    "    #t.left(90)\n",
    "    #t.forward(lenth)\n",
    "    #for i in range(4):\n",
    "    #    t.forward(lenth)\n",
    "    #    t.left(90)\n",
    "    \n",
    "#6각형 그리는 함수\n",
    "def six(lenth):\n",
    "    for i in range(6):\n",
    "        t.forward(lenth)\n",
    "        t.left(60) # 정육각형 = 60도 회전\n",
    "    \n",
    "t.up()\n",
    "t.goto(-200,0)\n",
    "t.down()\n",
    "#square(100)\n",
    "six(100)"
   ]
  },
  {
   "cell_type": "code",
   "execution_count": null,
   "metadata": {},
   "outputs": [],
   "source": [
    "import turtle\n",
    "t=turtle.Turtle()\n",
    "t.color(\"green\")\n",
    "t.shape(\"turtle\")\n",
    "color_list=[\"yellow\",\"green\",\"orange\",\"purple\",\"pink\",\"blue\",\"skyblue\",\"white\",\"red\",\"black\"]\n",
    "def n_draw(n,lenth):\n",
    "    for i in range(n):\n",
    "        t.forward(lenth)\n",
    "        t.left(360//n) # //+정수나눗셈\n",
    "    \n",
    "for i in range(10):\n",
    "    t.left(20)\n",
    "    t.fillcolor(color_list[i])\n",
    "    t.begin_fill()\n",
    "    n_draw(6,100)\n",
    "    t.end_fill()\n",
    "    \n",
    "t.left(360-10*20)"
   ]
  },
  {
   "cell_type": "code",
   "execution_count": null,
   "metadata": {},
   "outputs": [],
   "source": []
  }
 ],
 "metadata": {
  "kernelspec": {
   "display_name": "Python 3",
   "language": "python",
   "name": "python3"
  },
  "language_info": {
   "codemirror_mode": {
    "name": "ipython",
    "version": 3
   },
   "file_extension": ".py",
   "mimetype": "text/x-python",
   "name": "python",
   "nbconvert_exporter": "python",
   "pygments_lexer": "ipython3",
   "version": "3.7.6"
  }
 },
 "nbformat": 4,
 "nbformat_minor": 4
}
