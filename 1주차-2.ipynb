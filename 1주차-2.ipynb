{
 "cells": [
  {
   "cell_type": "code",
   "execution_count": null,
   "metadata": {},
   "outputs": [],
   "source": [
    "# 1-17 p.43\n",
    "import turtle\n",
    "t=turtle.Turtle()\n",
    "colors=[\"red\",\"purple\",\"blue\",\"green\",\"yellow\",\"orange\"]"
   ]
  },
  {
   "cell_type": "code",
   "execution_count": 1,
   "metadata": {},
   "outputs": [
    {
     "name": "stdout",
     "output_type": "stream",
     "text": [
      "10\n"
     ]
    }
   ],
   "source": [
    "n=1234\n",
    "sum=0\n",
    "while n>0:\n",
    "    digit = n%10\n",
    "    sum=sum+digit\n",
    "    n=n//10\n",
    "print(sum)"
   ]
  },
  {
   "cell_type": "code",
   "execution_count": null,
   "metadata": {},
   "outputs": [],
   "source": [
    "turtle.bgcolor(\"pink\")\n",
    "t.speed(0)\n",
    "t.width(3)\n",
    "length=10"
   ]
  },
  {
   "cell_type": "code",
   "execution_count": null,
   "metadata": {},
   "outputs": [],
   "source": [
    "while length < 500:\n",
    "    t.forward(length)\n",
    "    t.pencolor(colors[length%6])\n",
    "    t.right(89)\n",
    "    length+=5"
   ]
  },
  {
   "cell_type": "code",
   "execution_count": null,
   "metadata": {},
   "outputs": [],
   "source": [
    "#2-2 p.53\n",
    "x=3.14\n",
    "print(x)"
   ]
  },
  {
   "cell_type": "code",
   "execution_count": 1,
   "metadata": {},
   "outputs": [
    {
     "name": "stdout",
     "output_type": "stream",
     "text": [
      "5.86\n"
     ]
    }
   ],
   "source": [
    "#2-3\n",
    "x=3.14\n",
    "y=2.72\n",
    "print(x+y)"
   ]
  },
  {
   "cell_type": "code",
   "execution_count": 7,
   "metadata": {},
   "outputs": [
    {
     "name": "stdout",
     "output_type": "stream",
     "text": [
      "김민정 청주시 서원구 106\n"
     ]
    }
   ],
   "source": [
    "name = \"김민정\"\n",
    "add = '청주시 서원구'\n",
    "dong = '106'\n",
    "print(name,add,dong)"
   ]
  },
  {
   "cell_type": "code",
   "execution_count": null,
   "metadata": {},
   "outputs": [],
   "source": [
    "#2-5 p.57 변수이름 만들기\n",
    "sum=100+200  #영문알파벳 가능\n",
    "_count=5  #밑줄로 시작가능+중간에 밑줄도 가능\n",
    "_count=_count+1\n",
    "_count+=1\n",
    "king7=\"Henry\"   #숫자도 가능(*하지만 처음이 숫자는 불가능*)\n",
    "                # #와같은 기호 불가능\n",
    "                # 대소문자 구분\n",
    "print(sum,_count,king7)"
   ]
  },
  {
   "cell_type": "code",
   "execution_count": null,
   "metadata": {},
   "outputs": [],
   "source": [
    "x = input(\"몇대몇 ? : \")\n",
    "print( x)"
   ]
  },
  {
   "cell_type": "code",
   "execution_count": null,
   "metadata": {},
   "outputs": [],
   "source": []
  },
  {
   "cell_type": "code",
   "execution_count": null,
   "metadata": {},
   "outputs": [],
   "source": [
    "#2-10 p.63\n",
    "import turtle\n",
    "t=turtle.Turtle()\n",
    "t.shape(\"turtle\")"
   ]
  },
  {
   "cell_type": "code",
   "execution_count": null,
   "metadata": {},
   "outputs": [],
   "source": [
    "size=200"
   ]
  },
  {
   "cell_type": "code",
   "execution_count": null,
   "metadata": {},
   "outputs": [],
   "source": [
    "t.color(\"salmon\")\n",
    "t.width(3)\n",
    "t.forward(size)\n",
    "t.right(90)\n",
    "t.forward(size)\n",
    "t.right(90)\n",
    "t.forward(size)\n",
    "t.right(90)\n",
    "t.forward(size)"
   ]
  },
  {
   "cell_type": "code",
   "execution_count": null,
   "metadata": {},
   "outputs": [],
   "source": [
    "t.width(4)\n",
    "t.rt(90)"
   ]
  },
  {
   "cell_type": "code",
   "execution_count": null,
   "metadata": {},
   "outputs": [],
   "source": [
    "t.color(\"green\")"
   ]
  },
  {
   "cell_type": "code",
   "execution_count": null,
   "metadata": {},
   "outputs": [],
   "source": [
    "t.forward(size)\n",
    "t.left(120)\n",
    "t.forward(size)\n",
    "t.left(120)\n",
    "t.forward(size)\n",
    "t.left(120)"
   ]
  },
  {
   "cell_type": "code",
   "execution_count": null,
   "metadata": {},
   "outputs": [],
   "source": [
    "#3-4 다각형 그리기\n",
    "import turtle\n",
    "t=turtle.Turtle()\n",
    "t.shape(\"turtle\")"
   ]
  },
  {
   "cell_type": "code",
   "execution_count": null,
   "metadata": {},
   "outputs": [],
   "source": [
    "n= int (input(\"How many angles does your polygon have?\"))\n",
    "len = int(input(\"What is the length of one side of your polygon?\"))"
   ]
  },
  {
   "cell_type": "code",
   "execution_count": null,
   "metadata": {},
   "outputs": [],
   "source": [
    "for i in range(n):\n",
    "    t.forward(len)\n",
    "    t.left(360//n)"
   ]
  },
  {
   "cell_type": "code",
   "execution_count": null,
   "metadata": {},
   "outputs": [],
   "source": [
    "#p.80 섭씨화씨변환\n",
    "celsius = int (input(\"Enter your celsius tempeature : \"))\n",
    "fahrenheit=(int)(9/5*celsius+32)\n",
    "print('Your Fahrenheit temperature is %s ' %fahrenheit)"
   ]
  },
  {
   "cell_type": "code",
   "execution_count": null,
   "metadata": {},
   "outputs": [],
   "source": [
    "2**7 #p.83 제곱"
   ]
  },
  {
   "cell_type": "code",
   "execution_count": null,
   "metadata": {},
   "outputs": [],
   "source": [
    "x=y=100\n",
    "print(x,y)"
   ]
  },
  {
   "cell_type": "code",
   "execution_count": null,
   "metadata": {},
   "outputs": [],
   "source": [
    "# 연습문제 p.91 실린더 체적을 구하는 문제\n",
    "import math\n",
    "radius=int(input(\"enter the redius of your cyllinder :\"))\n",
    "height=int(input(\"enter the height of your cyllinder :\"))\n",
    "volume=math.pi * (radius**2)*height"
   ]
  },
  {
   "cell_type": "code",
   "execution_count": null,
   "metadata": {},
   "outputs": [],
   "source": [
    "print('the volume of your cyllinder is %s square meter' %volume)"
   ]
  },
  {
   "cell_type": "code",
   "execution_count": null,
   "metadata": {},
   "outputs": [],
   "source": [
    "#ch.4 data type : integer. float, string\n",
    "# p.97\n",
    "x=10\n",
    "print(\"x=\",x)\n",
    "x=3.14\n",
    "print(\"x=\",x)\n",
    "x=\"hello world!\"\n",
    "print(\"x=\",x)"
   ]
  },
  {
   "cell_type": "code",
   "execution_count": null,
   "metadata": {},
   "outputs": [],
   "source": [
    "msg=\" Congratulation !\"\n",
    "print(msg *3)\n",
    "print(\"=\"*51)"
   ]
  },
  {
   "cell_type": "code",
   "execution_count": null,
   "metadata": {},
   "outputs": [],
   "source": [
    "s=\"monty hall\"\n",
    "print(s[6:8]) # 6번째 있는 것 ~ 8째 제외하고\n",
    "\n"
   ]
  },
  {
   "cell_type": "code",
   "execution_count": null,
   "metadata": {},
   "outputs": [],
   "source": [
    "# p.103\n",
    "x=int(input(\"enter an integer number : \")) # int():문자열을 실수로 변환\n",
    "y=int(input(\"enter an integer number : \"))\n",
    "z=x+y\n",
    "print('sum of %s and %s is %s' %(x,y,z))"
   ]
  },
  {
   "cell_type": "code",
   "execution_count": null,
   "metadata": {},
   "outputs": [],
   "source": [
    "# ch4-9 p.104\n",
    "x=float (input(\"enter an real number : \")) # float():문자열을 실수로 변환\n",
    "y=float (input(\"enter an real number : \"))\n",
    "z=x+y\n",
    "print('sum of %s and %s is %s' %(x,y,z))"
   ]
  },
  {
   "cell_type": "code",
   "execution_count": null,
   "metadata": {},
   "outputs": [],
   "source": [
    "print(\" i am \"+21+\"years old.\")# 에러"
   ]
  },
  {
   "cell_type": "code",
   "execution_count": null,
   "metadata": {},
   "outputs": [],
   "source": [
    "print(\" i am \",21,\"years old.\")"
   ]
  },
  {
   "cell_type": "code",
   "execution_count": null,
   "metadata": {},
   "outputs": [],
   "source": [
    "# 년 일 월 프린트 하기 p.113\n",
    "year = input(\"enter today's year : \")\n",
    "month= input(\"enter today's month : \")\n",
    "date= input(\"enter today's day : \")\n",
    "print(\"today is\"+year +\"년\"+month+\"월\"+ date+\"일입니다.\")"
   ]
  },
  {
   "cell_type": "code",
   "execution_count": null,
   "metadata": {},
   "outputs": [],
   "source": [
    "import time\n",
    "now=time.time()#1970년 이후부터 현재 까지의 시간을 불러오는 함수 호출.\n",
    "thisYear=int(1970+now//(365*24*3600))\n",
    "print(\"This year is\",str(thisYear), \".\")\n",
    "age=int (input(\"how old are you?\"))\n",
    "print(\"In 2050, you will be \"+str(age+2050-thisYear)+\" years old.\")"
   ]
  },
  {
   "cell_type": "code",
   "execution_count": null,
   "metadata": {},
   "outputs": [],
   "source": [
    "a=int(3.2)\n",
    "print(a)"
   ]
  },
  {
   "cell_type": "code",
   "execution_count": null,
   "metadata": {},
   "outputs": [],
   "source": [
    "# ch.4 p.118\n",
    "# 색 채워진 원 그리기\n",
    "import turtle\n",
    "t=turtle.Turtle()\n",
    "t.shape(\"turtle\")\n",
    "color_list=[\"salmon\",\"chartreuse\",\"goldenrod\",\"purple\"]\n"
   ]
  },
  {
   "cell_type": "code",
   "execution_count": null,
   "metadata": {},
   "outputs": [],
   "source": [
    "for i in range(4):\n",
    "    t.fillcolor(color_list[i])\n",
    "    t.begin_fill()\n",
    "    t.circle(100)\n",
    "    t.end_fill()\n",
    "    t.forward(100)"
   ]
  },
  {
   "cell_type": "code",
   "execution_count": null,
   "metadata": {},
   "outputs": [],
   "source": [
    "import turtle    # 왜 에러뜨는 지 모르겠음.\n",
    "t=turtle.Turtle()\n",
    "t.color(\"purple\")\n",
    "t.shape(\"turtle\")\n",
    "s=turtle.textinput(\"\",\"이름을 입력하시오:\")\n",
    "t.write(\"   Hi.  \" + s + \"! how are you?\" , font=(\"Arial\", 20 , \"nomal\"))\n",
    "dist=200\n",
    "t.left(90)\n",
    "t.forward(dist)\n",
    "t.left(90)\n",
    "t.forward(dist)\n",
    "t.left(90)\n",
    "t.forward(dist)\n",
    "t.left(90)\n",
    "t.forward(dist)"
   ]
  },
  {
   "cell_type": "code",
   "execution_count": null,
   "metadata": {},
   "outputs": [],
   "source": [
    "# p.133\n",
    "num=int(input(\"정수 입력 : \"))\n",
    "if num % 2 ==0:\n",
    "    print(\"짝수이다\")\n",
    "else:\n",
    "        print(\"홀수이다.\")\n"
   ]
  },
  {
   "cell_type": "code",
   "execution_count": 3,
   "metadata": {},
   "outputs": [
    {
     "name": "stdout",
     "output_type": "stream",
     "text": [
      "정수입력하시오 : -5\n"
     ]
    }
   ],
   "source": [
    "# lab p.135\n",
    "import turtle\n",
    "t=turtle.Turtle()\n",
    "t.shape(\"turtle\")\n",
    "t.color(\"purple\")\n",
    "posi=-40\n",
    "t.goto(posi,0)\n",
    "num=int (input(\"정수입력하시오 : \"))\n",
    "pos=int(13)\n",
    "posh=int(18)\n",
    "if num>0:\n",
    "    t.color(\"salmon\")\n",
    "    t.goto(posi+pos , posh)\n",
    "    t.write(\"if turtle is here, the integer you typed is a positve integer.\",)\n",
    "elif num<0:\n",
    "    t.color(\"goldenrod\")\n",
    "    t.goto(posi+pos,-posh)\n",
    "    t.write(\"if turtle is here, the integer you typed is negative integer.\")\n",
    "else:\n",
    "    t.color(\"green\")\n",
    "    t.goto(posi+pos,0)\n",
    "    t.write(\"if turtle is here, the integer you type is zero\")"
   ]
  },
  {
   "cell_type": "code",
   "execution_count": 5,
   "metadata": {},
   "outputs": [
    {
     "name": "stdout",
     "output_type": "stream",
     "text": [
      "enter this year:2020\n",
      "2020  is a leep year. \n"
     ]
    }
   ],
   "source": [
    "# p.141 윤년\n",
    "year=int(input(\"enter this year:\"))\n",
    "if((year %4==0 and year %100 !=0) or year % 400 ==0):\n",
    "    print(year, \" is a leep year. \")\n",
    "else:\n",
    "    print(year, \" is not a leep year.\")"
   ]
  },
  {
   "cell_type": "code",
   "execution_count": null,
   "metadata": {},
   "outputs": [],
   "source": [
    "# 동전던지기 게임 p.143\n",
    "import random\n",
    "toss=input(\"toss a coin.(press any letter)\")\n",
    "coin=random.randrange(2)  # 0 또는 1 랜덤하게 생성\n",
    "print(\"coin is %s.\"%coin)\n",
    "if coin == 0:\n",
    "    print(\"coin is head\")\n",
    "else:\n",
    "    print(\"coin is tail\")\n",
    "print(\"coin tossing game is over.\")"
   ]
  },
  {
   "cell_type": "code",
   "execution_count": null,
   "metadata": {},
   "outputs": [],
   "source": [
    "# 동전 던지기 게임 그래픽 버전 p.144\n",
    "# 나중에 해보기\n",
    "import turtle\n",
    "import random\n",
    "\n",
    "screen=turtle.Screen()\n",
    "image1=\"이미지 파일 위치\"\n",
    "image2=\"이미지 파일 위치\"\n",
    "screen.addshape(image1)\n",
    "screen.addshape(image2)\n",
    "\n",
    "t1=turtle.Turtle()\n",
    "coin=random.randint(0,1)\n",
    "coin_list = [\"head\",\"tail\"]\n",
    "print(\" your random integer value is %s which means %s\" %(coin, coin_list[coin]))\n",
    "if coin ==0:\n",
    "    t1.shape(image1)\n",
    "    t1.stamp()\n",
    "else:\n",
    "    t1.shape(image2)\n",
    "    ti.stamp()\n"
   ]
  },
  {
   "cell_type": "code",
   "execution_count": null,
   "metadata": {},
   "outputs": [],
   "source": []
  }
 ],
 "metadata": {
  "kernelspec": {
   "display_name": "Python 3",
   "language": "python",
   "name": "python3"
  },
  "language_info": {
   "codemirror_mode": {
    "name": "ipython",
    "version": 3
   },
   "file_extension": ".py",
   "mimetype": "text/x-python",
   "name": "python",
   "nbconvert_exporter": "python",
   "pygments_lexer": "ipython3",
   "version": "3.7.6"
  }
 },
 "nbformat": 4,
 "nbformat_minor": 4
}
