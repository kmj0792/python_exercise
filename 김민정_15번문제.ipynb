{
 "cells": [
  {
   "cell_type": "code",
   "execution_count": 7,
   "metadata": {},
   "outputs": [],
   "source": [
    "import numpy as np"
   ]
  },
  {
   "cell_type": "code",
   "execution_count": 8,
   "metadata": {},
   "outputs": [],
   "source": [
    "import random"
   ]
  },
  {
   "cell_type": "code",
   "execution_count": 9,
   "metadata": {},
   "outputs": [],
   "source": [
    "x=np.random.randint(0,255,(1,100))"
   ]
  },
  {
   "cell_type": "code",
   "execution_count": 10,
   "metadata": {},
   "outputs": [
    {
     "name": "stdout",
     "output_type": "stream",
     "text": [
      "[[220 155   9  78 228  29 118 229  62  28 107 227  30  55 196  46 227  50\n",
      "  163 192  83 159 194 101 136 120  17 166 150 217 106 211 242 238  55 182\n",
      "   64  20 195 237 141 245 241 107 166 123 106  76  47 248 198   0 116 108\n",
      "  130 167  10 163 142  31 252 195 106 145  78  55 251 155 160 237  95 186\n",
      "  105 201 136 119   0  25  75  45 204 246 160 139 173 184 180 235  21  83\n",
      "  111 184 148 133  42 223  34  38   4  15]]\n"
     ]
    }
   ],
   "source": [
    "print(x)"
   ]
  },
  {
   "cell_type": "code",
   "execution_count": 11,
   "metadata": {},
   "outputs": [
    {
     "name": "stdout",
     "output_type": "stream",
     "text": [
      "[[  92.5   27.5 -118.5  -49.5  100.5  -98.5   -9.5  101.5  -65.5  -99.5\n",
      "   -20.5   99.5  -97.5  -72.5   68.5  -81.5   99.5  -77.5   35.5   64.5\n",
      "   -44.5   31.5   66.5  -26.5    8.5   -7.5 -110.5   38.5   22.5   89.5\n",
      "   -21.5   83.5  114.5  110.5  -72.5   54.5  -63.5 -107.5   67.5  109.5\n",
      "    13.5  117.5  113.5  -20.5   38.5   -4.5  -21.5  -51.5  -80.5  120.5\n",
      "    70.5 -127.5  -11.5  -19.5    2.5   39.5 -117.5   35.5   14.5  -96.5\n",
      "   124.5   67.5  -21.5   17.5  -49.5  -72.5  123.5   27.5   32.5  109.5\n",
      "   -32.5   58.5  -22.5   73.5    8.5   -8.5 -127.5 -102.5  -52.5  -82.5\n",
      "    76.5  118.5   32.5   11.5   45.5   56.5   52.5  107.5 -106.5  -44.5\n",
      "   -16.5   56.5   20.5    5.5  -85.5   95.5  -93.5  -89.5 -123.5 -112.5]]\n"
     ]
    }
   ],
   "source": [
    "y=x-127.5\n",
    "print(y)"
   ]
  },
  {
   "cell_type": "code",
   "execution_count": null,
   "metadata": {},
   "outputs": [],
   "source": [
    "for i in range(100):\n",
    "        z_c[i] = y[2i-1] # 홀수 번째 - q"
   ]
  },
  {
   "cell_type": "code",
   "execution_count": 12,
   "metadata": {},
   "outputs": [
    {
     "ename": "NameError",
     "evalue": "name 'vectorize' is not defined",
     "output_type": "error",
     "traceback": [
      "\u001b[1;31m---------------------------------------------------------------------------\u001b[0m",
      "\u001b[1;31mNameError\u001b[0m                                 Traceback (most recent call last)",
      "\u001b[1;32m<ipython-input-12-625b2d3a34a4>\u001b[0m in \u001b[0;36m<module>\u001b[1;34m\u001b[0m\n\u001b[1;32m----> 1\u001b[1;33m \u001b[0myy\u001b[0m \u001b[1;33m=\u001b[0m \u001b[0mvectorize\u001b[0m\u001b[1;33m(\u001b[0m\u001b[0mcomplex\u001b[0m\u001b[1;33m)\u001b[0m\u001b[1;33m(\u001b[0m\u001b[0my_re\u001b[0m\u001b[1;33m,\u001b[0m \u001b[0my_im\u001b[0m\u001b[1;33m)\u001b[0m\u001b[1;33m\u001b[0m\u001b[1;33m\u001b[0m\u001b[0m\n\u001b[0m",
      "\u001b[1;31mNameError\u001b[0m: name 'vectorize' is not defined"
     ]
    }
   ],
   "source": []
  },
  {
   "cell_type": "code",
   "execution_count": null,
   "metadata": {},
   "outputs": [],
   "source": []
  }
 ],
 "metadata": {
  "kernelspec": {
   "display_name": "Python 3",
   "language": "python",
   "name": "python3"
  },
  "language_info": {
   "codemirror_mode": {
    "name": "ipython",
    "version": 3
   },
   "file_extension": ".py",
   "mimetype": "text/x-python",
   "name": "python",
   "nbconvert_exporter": "python",
   "pygments_lexer": "ipython3",
   "version": "3.7.6"
  }
 },
 "nbformat": 4,
 "nbformat_minor": 4
}
