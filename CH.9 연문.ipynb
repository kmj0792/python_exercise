{
 "cells": [
  {
   "cell_type": "code",
   "execution_count": null,
   "metadata": {},
   "outputs": [
    {
     "name": "stdout",
     "output_type": "stream",
     "text": [
      "(입력모드)이름을 입력하시오: 김민정\n",
      "전화번호를 입력하시오: 01050298872\n",
      "(입력모드)이름을 입력하시오: 앙앙\n",
      "전화번호를 입력하시오: 11111\n",
      "(입력모드)이름을 입력하시오: \n",
      "(검색모드)이름을 입력하시오: 김민정\n",
      "김민정의 전화번호는 01050298872 입니다.\n",
      "(검색모드)이름을 입력하시오: \n",
      "(입력모드)이름을 입력하시오: \n"
     ]
    }
   ],
   "source": [
    "#CH.9 3번 **************\n",
    "contacts =  { }\n",
    "while True:\n",
    "    name = input(\"(입력모드)이름을 입력하시오: \")\n",
    "    if not name:\n",
    "        while True:\n",
    "            name = input(\"(검색모드)이름을 입력하시오: \")\n",
    "            if not name:\n",
    "                break;\n",
    "            else:\n",
    "                print(name + \"의 전화번호는 %s 입니다.\" %contacts[name])\n",
    "                continue;\n",
    "        if not name:\n",
    "            continue;\n",
    "    else :        \n",
    "        tel = input(\"전화번호를 입력하시오: \")\n",
    "        contacts[name] = tel"
   ]
  },
  {
   "cell_type": "code",
   "execution_count": null,
   "metadata": {},
   "outputs": [],
   "source": [
    "#CH.9 7번\n",
    "domains = {\"kr\" : \"대한민국\", \"sk\" : \"슬로바키아\", \"no\" : \"노르웨이\", \"us\" : \"미국\", \"jp\" : \"일본\", \"hu\" : \"헝가리\", \"de\" : \"독일\"}\n",
    "\n",
    "for k, v in domains.items():\n",
    "    print(k, \":\", v)\n"
   ]
  },
  {
   "cell_type": "code",
   "execution_count": null,
   "metadata": {},
   "outputs": [],
   "source": [
    "#CH.9 8번 ****************\n",
    "import random\n",
    "\n",
    "problems = {\"파이썬\": '\"최근에 가장 떠오르는 프로그래밍 언어\"',\n",
    "            \"변수\" : '\"데이터를 저장하는 메모리 공간\"',\n",
    "            \"함수\" : '\"작업을 수행하는 문장들의 집합에 이름을 붙인 것\"',\n",
    "            \"리스트\" : '\"서로 관련이 없는 항목들의 모임\"' }\n",
    "\n",
    "while True:\n",
    "    print(\"다음은 어떤 단어에 대한 설명일까요?\")\n",
    "\n",
    "    num = random.randint(0, 3)\n",
    "    count = 0;\n",
    "    for i in problems.keys():\n",
    "        if count == num:\n",
    "            ans = i\n",
    "            print(problems[i])\n",
    "        count = count + 1\n",
    "\n",
    "\n",
    "    print(\"(1)파이썬 (2)함수 (3)리스트 (4)변수\")\n",
    "    sen = input(\"정답 : \")\n",
    "\n",
    "    if sen == ans:\n",
    "        print(\"맞았습니다.\")\n",
    "    else:\n",
    "        print(\"틀렸습니다.\")"
   ]
  },
  {
   "cell_type": "code",
   "execution_count": 1,
   "metadata": {},
   "outputs": [
    {
     "name": "stdout",
     "output_type": "stream",
     "text": [
      "10\n"
     ]
    }
   ],
   "source": [
    "def func(n):\n",
    "    if(n==1):\n",
    "        return 1\n",
    "    else:\n",
    "        return(n+func(n-1))\n",
    "print(func(4))"
   ]
  },
  {
   "cell_type": "code",
   "execution_count": 2,
   "metadata": {},
   "outputs": [
    {
     "name": "stdout",
     "output_type": "stream",
     "text": [
      "120\n"
     ]
    }
   ],
   "source": [
    "def factorial(n):\n",
    "    if(n>1):\n",
    "         return(n*factorial(n-1))\n",
    "    else:\n",
    "        return 1\n",
    "print(factorial(5))"
   ]
  },
  {
   "cell_type": "code",
   "execution_count": 1,
   "metadata": {},
   "outputs": [
    {
     "ename": "RecursionError",
     "evalue": "maximum recursion depth exceeded",
     "output_type": "error",
     "traceback": [
      "\u001b[1;31m---------------------------------------------------------------------------\u001b[0m",
      "\u001b[1;31mRecursionError\u001b[0m                            Traceback (most recent call last)",
      "\u001b[1;32m<ipython-input-1-ec6861362697>\u001b[0m in \u001b[0;36m<module>\u001b[1;34m\u001b[0m\n\u001b[0;32m      3\u001b[0m \u001b[1;33m\u001b[0m\u001b[0m\n\u001b[0;32m      4\u001b[0m \u001b[1;33m\u001b[0m\u001b[0m\n\u001b[1;32m----> 5\u001b[1;33m \u001b[0mprint\u001b[0m\u001b[1;33m(\u001b[0m\u001b[0mfactorial\u001b[0m\u001b[1;33m(\u001b[0m\u001b[1;36m4\u001b[0m\u001b[1;33m)\u001b[0m\u001b[1;33m)\u001b[0m\u001b[1;33m\u001b[0m\u001b[1;33m\u001b[0m\u001b[0m\n\u001b[0m",
      "\u001b[1;32m<ipython-input-1-ec6861362697>\u001b[0m in \u001b[0;36mfactorial\u001b[1;34m(n)\u001b[0m\n\u001b[0;32m      1\u001b[0m \u001b[1;32mdef\u001b[0m \u001b[0mfactorial\u001b[0m\u001b[1;33m(\u001b[0m\u001b[0mn\u001b[0m\u001b[1;33m)\u001b[0m\u001b[1;33m:\u001b[0m\u001b[1;33m\u001b[0m\u001b[1;33m\u001b[0m\u001b[0m\n\u001b[1;32m----> 2\u001b[1;33m      \u001b[1;32mreturn\u001b[0m\u001b[1;33m(\u001b[0m\u001b[0mn\u001b[0m\u001b[1;33m*\u001b[0m\u001b[0mfactorial\u001b[0m\u001b[1;33m(\u001b[0m\u001b[0mn\u001b[0m\u001b[1;33m-\u001b[0m\u001b[1;36m1\u001b[0m\u001b[1;33m)\u001b[0m\u001b[1;33m)\u001b[0m\u001b[1;33m\u001b[0m\u001b[1;33m\u001b[0m\u001b[0m\n\u001b[0m\u001b[0;32m      3\u001b[0m \u001b[1;33m\u001b[0m\u001b[0m\n\u001b[0;32m      4\u001b[0m \u001b[1;33m\u001b[0m\u001b[0m\n\u001b[0;32m      5\u001b[0m \u001b[0mprint\u001b[0m\u001b[1;33m(\u001b[0m\u001b[0mfactorial\u001b[0m\u001b[1;33m(\u001b[0m\u001b[1;36m4\u001b[0m\u001b[1;33m)\u001b[0m\u001b[1;33m)\u001b[0m\u001b[1;33m\u001b[0m\u001b[1;33m\u001b[0m\u001b[0m\n",
      "... last 1 frames repeated, from the frame below ...\n",
      "\u001b[1;32m<ipython-input-1-ec6861362697>\u001b[0m in \u001b[0;36mfactorial\u001b[1;34m(n)\u001b[0m\n\u001b[0;32m      1\u001b[0m \u001b[1;32mdef\u001b[0m \u001b[0mfactorial\u001b[0m\u001b[1;33m(\u001b[0m\u001b[0mn\u001b[0m\u001b[1;33m)\u001b[0m\u001b[1;33m:\u001b[0m\u001b[1;33m\u001b[0m\u001b[1;33m\u001b[0m\u001b[0m\n\u001b[1;32m----> 2\u001b[1;33m      \u001b[1;32mreturn\u001b[0m\u001b[1;33m(\u001b[0m\u001b[0mn\u001b[0m\u001b[1;33m*\u001b[0m\u001b[0mfactorial\u001b[0m\u001b[1;33m(\u001b[0m\u001b[0mn\u001b[0m\u001b[1;33m-\u001b[0m\u001b[1;36m1\u001b[0m\u001b[1;33m)\u001b[0m\u001b[1;33m)\u001b[0m\u001b[1;33m\u001b[0m\u001b[1;33m\u001b[0m\u001b[0m\n\u001b[0m\u001b[0;32m      3\u001b[0m \u001b[1;33m\u001b[0m\u001b[0m\n\u001b[0;32m      4\u001b[0m \u001b[1;33m\u001b[0m\u001b[0m\n\u001b[0;32m      5\u001b[0m \u001b[0mprint\u001b[0m\u001b[1;33m(\u001b[0m\u001b[0mfactorial\u001b[0m\u001b[1;33m(\u001b[0m\u001b[1;36m4\u001b[0m\u001b[1;33m)\u001b[0m\u001b[1;33m)\u001b[0m\u001b[1;33m\u001b[0m\u001b[1;33m\u001b[0m\u001b[0m\n",
      "\u001b[1;31mRecursionError\u001b[0m: maximum recursion depth exceeded"
     ]
    }
   ],
   "source": [
    "def factorial(n):\n",
    "     return(n*factorial(n-1))\n",
    "print(factorial(4))"
   ]
  },
  {
   "cell_type": "code",
   "execution_count": null,
   "metadata": {},
   "outputs": [],
   "source": []
  }
 ],
 "metadata": {
  "kernelspec": {
   "display_name": "Python 3",
   "language": "python",
   "name": "python3"
  },
  "language_info": {
   "codemirror_mode": {
    "name": "ipython",
    "version": 3
   },
   "file_extension": ".py",
   "mimetype": "text/x-python",
   "name": "python",
   "nbconvert_exporter": "python",
   "pygments_lexer": "ipython3",
   "version": "3.7.6"
  }
 },
 "nbformat": 4,
 "nbformat_minor": 4
}
