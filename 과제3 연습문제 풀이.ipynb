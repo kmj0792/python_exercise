{
 "cells": [
  {
   "cell_type": "code",
   "execution_count": 1,
   "metadata": {},
   "outputs": [
    {
     "name": "stdout",
     "output_type": "stream",
     "text": [
      "파일 이름을 입력하시오 : C:\\Users\\Public\\HumptyDumpty.txt\n",
      "{'H': 3, 'u': 7, 'm': 6, 'p': 6, 't': 13, 'y': 5, ' ': 22, 'D': 2, 's': 5, 'a': 11, 'o': 4, 'n': 7, 'w': 1, 'l': 9, ',': 1, '\\n': 3, 'h': 5, 'd': 3, 'g': 5, 'r': 3, 'e': 7, 'f': 1, '.': 2, 'A': 1, 'k': 2, 'i': 3, \"'\": 3, 'C': 1}\n"
     ]
    }
   ],
   "source": [
    "#ch.11 - 연습문제 3\n",
    "\n",
    "from tkinter import *\n",
    "alp = {} #alp 라는 이름의 빈 리스트 생성\n",
    "infilename = input(\"파일 이름을 입력하시오 : \") # 파일 경로를 입력한다.\n",
    "infile = open(infilename, \"r\") # 입력한 파일을 읽기모드(r)로 연다.\n",
    "rfile = infile.read() #입력한 파일을 읽는다.\n",
    "infile.close() # 파일을 닫는다.\n",
    "\n",
    "\n",
    "for line in rfile: \n",
    "    for ch in line:\n",
    "        if ch in alp: # 만약 문자가 alp 리스트 안에 존재한다면 \n",
    "            alp[ch] += 1 # 그 리스트의 값을 1 증가시킨다.\n",
    "        else:\n",
    "            alp[ch] = 1 # 아니면 그 리스트의 값을 1로 유지한다.\n",
    "print(alp) # 리스트를 출력한다.\n"
   ]
  },
  {
   "cell_type": "code",
   "execution_count": null,
   "metadata": {},
   "outputs": [],
   "source": []
  },
  {
   "cell_type": "code",
   "execution_count": 2,
   "metadata": {},
   "outputs": [
    {
     "name": "stdout",
     "output_type": "stream",
     "text": [
      "입력 파일 이름: C:\\Users\\Public\\numbers.txt\n",
      "출력 파일 이름: C:\\Users\\Public\\output.txt\n"
     ]
    }
   ],
   "source": [
    "#ch.11 - 연습문제 5\n",
    "\n",
    "from tkinter import *\n",
    "\n",
    "\n",
    "\n",
    "file = input(\"입력 파일 이름: \") # 파일 경로를 복사하여 입력한다. (사이에 \\\\ 붙이기)\n",
    "\n",
    "infile = open(file, \"r\") # 입력한 파일을 읽기 모드(r)로 연다.\n",
    "rfile = infile.readlines() # 파일의 전체 데이터를 읽는다. (데이터가 한행으로 쭉 이어져 출력된다.)\n",
    "infile.close() # 파일을 닫는다\n",
    "\n",
    "file = input(\"출력 파일 이름: \") # 원하는 값을 출력할 파일 경로를 입력한다. \n",
    "\n",
    "outfile = open(file,\"w\") # 파일을 쓰기 모드(w)로 연다.\n",
    "\n",
    "# 변수들을 0으로 초기화 시켜준다.\n",
    "total = 0 \n",
    "avg = 0\n",
    "count = 0\n",
    "# 반복문 for 문을 사용해 합계를 구한다.\n",
    "for s in rfile:\n",
    "    total += float(s) # 0으로 초기화한 total 값에 s 값 반복해서 더해주기\n",
    "    count += 1 # 카운트는 반복문을 실행 할 때마다 1 증가 \n",
    "avg = total / count # 평균은 total 나누기 카운트\n",
    "\n",
    "print(\"합계=\"+str(total), file = outfile, end =\"\\n\") # 합계값을 outfile (출력 파일)에 출력한다.\n",
    "print(\"평균=\"+str(avg), file = outfile, end =\"\") # 평균값을 outfile (출력 파일)에 출력한다.\n",
    "\n",
    "outfile.close() # outfile 파일을 닫는다."
   ]
  },
  {
   "cell_type": "code",
   "execution_count": null,
   "metadata": {},
   "outputs": [],
   "source": [
    "#ch.13 - 연습문제 1\n",
    "class Circle: # circle 클래스에 메소드를 추가하였다.\n",
    "    def __init__(self, radius): # 반지름 값을 받아 객체안의 변수(radius)에 저장하는 함수.\n",
    "        self.radius = radius\n",
    "        \n",
    "    def calcPerimeter(self): #원의 둘레 계산하여 변수 calcperimeter에 저장\n",
    "        self.calcperimeter = 3.14 * 2 * self.radius\n",
    "        \n",
    "    def calcArea(self): #원의 면적 계산하여 변수 calcarea에 저장\n",
    "        self.calcarea = 3.14 * self.radius**2\n",
    "     \n",
    "    # __str__() 이 메소드는 print()로 출력할 때 자동으로 호출되는 함수.\n",
    "    #__str__() 이 메소드는 객체의 데이터를 문자열로 만들어서 반환한다.\n",
    "    def __str__(self):\n",
    "        ggg = \"반지름: \"+str(self.radius) +\" 원의 면적: \"+str(self.calcarea) +\" 원의 둘레: \"+str(self.calcperimeter)\n",
    "        return ggg # 이 함수는 ggg 값을 반환한다.\n",
    "\n",
    "myCircle = Circle(400) # 반지름을 100으로 정의 되었다.\n",
    "myCircle.calcPerimeter() # 원의 둘레를 계산하는 함수 호출\n",
    "myCircle.calcArea() # 원의 면적을 계산하는 함수 호출\n",
    "print(myCircle) # print 함수 호출로 인해 __str__()함수가 자동으로 호출됨."
   ]
  },
  {
   "cell_type": "code",
   "execution_count": null,
   "metadata": {},
   "outputs": [],
   "source": [
    "# ch.13 - 연습문제 4\n",
    "\n",
    "from turtle import * #터틀 그래픽에서 Turtle 클래스를 상속받는다.\n",
    "\n",
    "class MyTurtle(Turtle):  # MyTurtle 클래스를 정의한다.\n",
    "    def drawSquare(self): # 이 클래스에 drawSquare() 함수를 추가한다.\n",
    "        for i in range(4): # 사각형을 그리는 과정을 반복문 for을 이용해 정의한다.\n",
    "            self.right(90)\n",
    "            self.forward(100)\n",
    "\n",
    "my_turtle = MyTurtle() # MyTurtle 클래스를 호출한다.\n",
    "my_turtle.forward(100) # 앞으로 100픽셀 이동한다.\n",
    "my_turtle.drawSquare() # 사각형을 그리는 drawSquare() 함수 호출한다.\n"
   ]
  },
  {
   "cell_type": "code",
   "execution_count": null,
   "metadata": {},
   "outputs": [],
   "source": []
  }
 ],
 "metadata": {
  "kernelspec": {
   "display_name": "Python 3",
   "language": "python",
   "name": "python3"
  },
  "language_info": {
   "codemirror_mode": {
    "name": "ipython",
    "version": 3
   },
   "file_extension": ".py",
   "mimetype": "text/x-python",
   "name": "python",
   "nbconvert_exporter": "python",
   "pygments_lexer": "ipython3",
   "version": "3.7.6"
  }
 },
 "nbformat": 4,
 "nbformat_minor": 4
}
