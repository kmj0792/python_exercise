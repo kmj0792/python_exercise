{
 "cells": [
  {
   "cell_type": "code",
   "execution_count": null,
   "metadata": {},
   "outputs": [],
   "source": [
    "# 통신공학 1단원 \n",
    "# [파장=속도/주파수] 공식 활용"
   ]
  },
  {
   "cell_type": "code",
   "execution_count": null,
   "metadata": {},
   "outputs": [],
   "source": [
    "print(\" 이 스크립은 파장을 주파수 또는 속도로 변환하는 것이다. \")\n",
    "sol=300000000.00 # 빛의 속도 sol"
   ]
  },
  {
   "cell_type": "code",
   "execution_count": null,
   "metadata": {},
   "outputs": [],
   "source": [
    "wl=float(input (\"파장을 입력하고 엔터를 누르시오.\"))\n",
    "print(wl)\n",
    "freq=sol/wl\n",
    "print(\"입력한 파장의 주파수는 %r Hz 입니다.\" %freq)"
   ]
  },
  {
   "cell_type": "code",
   "execution_count": null,
   "metadata": {},
   "outputs": [],
   "source": [
    "def wl():\n",
    "    wl=float(input(\"파장을 입력하시오.\"))\n",
    "    freq=sol/wl\n",
    "    print(\"입력한 파장의 주파수는 %r 입니다.\" %freq)\n",
    "    if wl>=1000:\n",
    "        print(\"긴 라디오파\")\n",
    "    if wl<=1000 and wl>=0.01:\n",
    "        print(\"라디오파\")\n",
    "    elif wl<=0.01 and wl>=0.00001:\n",
    "        print(\"마이크로파\")\n",
    "    elif wl<=0.00001 and wl>=0.0000005:\n",
    "        print(\"infra Red\")\n",
    "    elif wl<=0.0000005 and wl>=0.00000001:\n",
    "        print(\"visible light = 가시광선\")\n",
    "    elif wl<=0.00000001 and wl>=0.0000000001:\n",
    "        print(\"Ultra Violet\")\n",
    "    elif wl<=0.0000000001 and wl>=0.000000000001:\n",
    "        print(\"엑스레이\")\n",
    "    elif wl<=0.000000000001:\n",
    "        print(\"감마선\")\n",
    "    else:\n",
    "        print(\"보통 범위 내에 있지 않다.\")\n",
    "        "
   ]
  },
  {
   "cell_type": "code",
   "execution_count": null,
   "metadata": {},
   "outputs": [],
   "source": [
    "wl()"
   ]
  },
  {
   "cell_type": "code",
   "execution_count": null,
   "metadata": {},
   "outputs": [],
   "source": [
    "print(sol)"
   ]
  },
  {
   "cell_type": "code",
   "execution_count": null,
   "metadata": {},
   "outputs": [],
   "source": [
    "def freq():\n",
    "    freq=float(input(\"주파수를 입력하시오\"))\n",
    "    wl=sol/freq\n",
    "    print(\"입력한 주파수의 파장은 %r 입니다.\" %wl)\n",
    "    if wl>=1000:\n",
    "        print(\"긴 라디오\")\n",
    "    if wl<=1000 and wl>=0.01:\n",
    "        print(\"라디오파\")\n",
    "    if wl<=0.01 and wl>=0.00001:\n",
    "        print(\"마이크로파\")\n",
    "    if wl<=0.00001 and wl>=0.0000005:\n",
    "        print(\"infra red\")\n",
    "    if wl<=0.0000005 and wl>=0.00000001:\n",
    "        print(\"가시광선\")\n",
    "    if wl <= 0.00000001\n",
    "    # 밑에 더 추가 해야함."
   ]
  },
  {
   "cell_type": "code",
   "execution_count": null,
   "metadata": {},
   "outputs": [],
   "source": [
    "freq()"
   ]
  }
 ],
 "metadata": {
  "kernelspec": {
   "display_name": "Python 3",
   "language": "python",
   "name": "python3"
  },
  "language_info": {
   "codemirror_mode": {
    "name": "ipython",
    "version": 3
   },
   "file_extension": ".py",
   "mimetype": "text/x-python",
   "name": "python",
   "nbconvert_exporter": "python",
   "pygments_lexer": "ipython3",
   "version": "3.7.6"
  }
 },
 "nbformat": 4,
 "nbformat_minor": 4
}
