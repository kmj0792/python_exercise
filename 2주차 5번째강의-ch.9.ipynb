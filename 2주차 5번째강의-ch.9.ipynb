{
 "cells": [
  {
   "cell_type": "code",
   "execution_count": 2,
   "metadata": {},
   "outputs": [
    {
     "name": "stdout",
     "output_type": "stream",
     "text": [
      "{'Alice': '010-1234-5678'}\n"
     ]
    }
   ],
   "source": [
    "# 딕셔너리 p.268\n",
    "phone_book={}\n",
    "phone_book[\"Alice\"]=\"010-1234-5678\"\n",
    "\n",
    "print(phone_book)\n"
   ]
  },
  {
   "cell_type": "code",
   "execution_count": 1,
   "metadata": {},
   "outputs": [
    {
     "name": "stdout",
     "output_type": "stream",
     "text": [
      "{'Alice': '010-1245-5555', 'tomas': '010-4444-5555', 'daniel': '010-8888-7777'}\n"
     ]
    }
   ],
   "source": [
    "#ch. 9 p.269\n",
    "phone_book={\"Alice\" : \"010-1245-5555\"}\n",
    "phone_book[\"tomas\"]=\"010-4444-5555\"\n",
    "phone_book[\"daniel\"]=\"010-8888-7777\"\n",
    "\n",
    "print(phone_book)"
   ]
  },
  {
   "cell_type": "code",
   "execution_count": 6,
   "metadata": {},
   "outputs": [
    {
     "data": {
      "text/plain": [
       "dict_values(['010-1245-5555', '010-4444-5555', '010-8888-7777'])"
      ]
     },
     "execution_count": 6,
     "metadata": {},
     "output_type": "execute_result"
    }
   ],
   "source": [
    "#딕셔너리  p.270\n",
    "#벨류 값 출력\n",
    "phone_book.values()"
   ]
  },
  {
   "cell_type": "code",
   "execution_count": 8,
   "metadata": {},
   "outputs": [
    {
     "data": {
      "text/plain": [
       "dict_keys(['Alice', 'tomas', 'daniel'])"
      ]
     },
     "execution_count": 8,
     "metadata": {},
     "output_type": "execute_result"
    }
   ],
   "source": [
    "# 키 값 출력\n",
    "phone_book.keys()"
   ]
  },
  {
   "cell_type": "code",
   "execution_count": 2,
   "metadata": {},
   "outputs": [
    {
     "name": "stdout",
     "output_type": "stream",
     "text": [
      "chris\n",
      "17\n"
     ]
    },
    {
     "data": {
      "text/plain": [
       "dict_keys(['name', 'age', 'class'])"
      ]
     },
     "execution_count": 2,
     "metadata": {},
     "output_type": "execute_result"
    }
   ],
   "source": [
    "# p . 270\n",
    "dict={'name' : 'chris', 'age' : 17, 'class' : 'beginner'}\n",
    "print(dict['name'])\n",
    "print(dict['age'])\n",
    "dict.keys()"
   ]
  },
  {
   "cell_type": "code",
   "execution_count": 13,
   "metadata": {},
   "outputs": [
    {
     "name": "stdout",
     "output_type": "stream",
     "text": [
      "Alice 010-1245-5555\n",
      "daniel 010-8888-7777\n",
      "tomas 010-4444-5555\n"
     ]
    }
   ],
   "source": [
    "#p.271\n",
    "for key in sorted(phone_book.keys()): # 키에 대해 정렬 sorted\n",
    "    print(key,phone_book[key])"
   ]
  },
  {
   "cell_type": "code",
   "execution_count": 14,
   "metadata": {},
   "outputs": [
    {
     "name": "stdout",
     "output_type": "stream",
     "text": [
      "{'tomas': '010-4444-5555', 'daniel': '010-8888-7777'}\n"
     ]
    }
   ],
   "source": [
    "del phone_book[\"Alice\"]\n",
    "print(phone_book)"
   ]
  },
  {
   "cell_type": "code",
   "execution_count": 15,
   "metadata": {},
   "outputs": [
    {
     "name": "stdout",
     "output_type": "stream",
     "text": [
      "{}\n"
     ]
    }
   ],
   "source": [
    "phone_book.clear()\n",
    "print(phone_book)"
   ]
  },
  {
   "cell_type": "code",
   "execution_count": null,
   "metadata": {},
   "outputs": [],
   "source": [
    "# 영한 사전 p.273\n",
    "english_dict={}\n",
    "\n",
    "english_dict['one']='하나'\n",
    "english_dict['two']='둘'\n",
    "english_dict['three']='셋'\n",
    "\n",
    "while True:\n",
    "    \n",
    "    word= input(\"단어를 입력하시오 : \")\n",
    "    if word==\"quit\":\n",
    "        break\n",
    "    print(english_dict[word])"
   ]
  },
  {
   "cell_type": "code",
   "execution_count": null,
   "metadata": {},
   "outputs": [],
   "source": []
  }
 ],
 "metadata": {
  "kernelspec": {
   "display_name": "Python 3",
   "language": "python",
   "name": "python3"
  },
  "language_info": {
   "codemirror_mode": {
    "name": "ipython",
    "version": 3
   },
   "file_extension": ".py",
   "mimetype": "text/x-python",
   "name": "python",
   "nbconvert_exporter": "python",
   "pygments_lexer": "ipython3",
   "version": "3.7.6"
  }
 },
 "nbformat": 4,
 "nbformat_minor": 4
}
