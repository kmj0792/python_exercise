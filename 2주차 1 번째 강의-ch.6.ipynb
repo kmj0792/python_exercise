{
 "cells": [
  {
   "cell_type": "code",
   "execution_count": null,
   "metadata": {},
   "outputs": [],
   "source": [
    "# p.163\n",
    "for i in [1,2,3,4,5]:\n",
    "    print(\"i=\",i)"
   ]
  },
  {
   "cell_type": "code",
   "execution_count": null,
   "metadata": {},
   "outputs": [],
   "source": [
    "for i in[1,2,3,4,5]:\n",
    "    print(\"9*\", i,\"=\",9*i)"
   ]
  },
  {
   "cell_type": "code",
   "execution_count": null,
   "metadata": {},
   "outputs": [],
   "source": [
    "#ch 6 p.166\n",
    "#range함수 \n",
    "for i in range(10,0,-1):\n",
    "    print(i, end=\"    \") # 모르겠음!"
   ]
  },
  {
   "cell_type": "code",
   "execution_count": 1,
   "metadata": {},
   "outputs": [
    {
     "name": "stdout",
     "output_type": "stream",
     "text": [
      " 1 *1 = 1 \t 2 *1 = 2 \t 3 *1 = 3 \t 4 *1 = 4 \t 5 *1 = 5 \t 6 *1 = 6 \t 7 *1 = 7 \t 8 *1 = 8 \t 9 *1 = 9 \t\n",
      " 1 *2 = 2 \t 2 *2 = 4 \t 3 *2 = 6 \t 4 *2 = 8 \t 5 *2 = 10 \t 6 *2 = 12 \t 7 *2 = 14 \t 8 *2 = 16 \t 9 *2 = 18 \t\n",
      " 1 *3 = 3 \t 2 *3 = 6 \t 3 *3 = 9 \t 4 *3 = 12 \t 5 *3 = 15 \t 6 *3 = 18 \t 7 *3 = 21 \t 8 *3 = 24 \t 9 *3 = 27 \t\n",
      " 1 *4 = 4 \t 2 *4 = 8 \t 3 *4 = 12 \t 4 *4 = 16 \t 5 *4 = 20 \t 6 *4 = 24 \t 7 *4 = 28 \t 8 *4 = 32 \t 9 *4 = 36 \t\n",
      " 1 *5 = 5 \t 2 *5 = 10 \t 3 *5 = 15 \t 4 *5 = 20 \t 5 *5 = 25 \t 6 *5 = 30 \t 7 *5 = 35 \t 8 *5 = 40 \t 9 *5 = 45 \t\n",
      " 1 *6 = 6 \t 2 *6 = 12 \t 3 *6 = 18 \t 4 *6 = 24 \t 5 *6 = 30 \t 6 *6 = 36 \t 7 *6 = 42 \t 8 *6 = 48 \t 9 *6 = 54 \t\n",
      " 1 *7 = 7 \t 2 *7 = 14 \t 3 *7 = 21 \t 4 *7 = 28 \t 5 *7 = 35 \t 6 *7 = 42 \t 7 *7 = 49 \t 8 *7 = 56 \t 9 *7 = 63 \t\n",
      " 1 *8 = 8 \t 2 *8 = 16 \t 3 *8 = 24 \t 4 *8 = 32 \t 5 *8 = 40 \t 6 *8 = 48 \t 7 *8 = 56 \t 8 *8 = 64 \t 9 *8 = 72 \t\n",
      " 1 *9 = 9 \t 2 *9 = 18 \t 3 *9 = 27 \t 4 *9 = 36 \t 5 *9 = 45 \t 6 *9 = 54 \t 7 *9 = 63 \t 8 *9 = 72 \t 9 *9 = 81 \t\n"
     ]
    }
   ],
   "source": [
    "#ch 6 p.177\n",
    "# 1단~ 9단 구구단 출력 - while 2개 사용.\n",
    "i= int(1)\n",
    "j=int(1)\n",
    "\n",
    "while j<=9:\n",
    "    while i<=9:\n",
    "    \n",
    "        print(\" %s *%s = %s \"%(i,j,i*j),end = \"\\t\")\n",
    "        i = i+ 1\n",
    "    \n",
    "    print(\"\")\n",
    "\n",
    "    j= j+ 1\n",
    "    i=1"
   ]
  },
  {
   "cell_type": "code",
   "execution_count": null,
   "metadata": {},
   "outputs": [],
   "source": [
    "#원하는 구구단 단수 출력하기. - 내가 그냥 해봄 (수업시간X)\n",
    "dan = int(input(\"원하는 단은 :\"))\n",
    "i= int(1)\n",
    "\n",
    "while(i<=9):\n",
    "    print(\" %s * %s = %s \" %(dan, i, dan*i))\n",
    "    i=i+1"
   ]
  },
  {
   "cell_type": "code",
   "execution_count": null,
   "metadata": {},
   "outputs": [],
   "source": [
    "#ch6 p.186\n",
    "#빵 종류\n",
    "bread=[\"호밀빵\",\"위트\",\"화이트\"]\n",
    "meat=[\"미트볼\",\"소시지\",\"닭가슴살\"]\n",
    "vegetable=[\"양상추\", \"토마토\",\"오이\"]\n",
    "sauces=[\"마요네즈\",\"허니 머스타드\",\"칠리\"]\n",
    "\n",
    "for b in bread:\n",
    "    for m in meat:\n",
    "        for v in vegetable:\n",
    "            for s in sauces:\n",
    "                print(b+ \"+\" + m+ \"+\"+ v+\"+\"+s)\n",
    "                #샌드위치 종류 수 =3*3*3*3"
   ]
  },
  {
   "cell_type": "code",
   "execution_count": null,
   "metadata": {},
   "outputs": [],
   "source": [
    "# while-break \n",
    "#p.187\n",
    "while True:\n",
    "    light=input('신호등 색상을 입력하시오 : ')\n",
    "    if light == 'blue':\n",
    "        break\n",
    "print('전진')"
   ]
  },
  {
   "cell_type": "code",
   "execution_count": null,
   "metadata": {},
   "outputs": [],
   "source": [
    "# ch6 터틀 그래픽을 이용한 시계만들기 p.188\n",
    "\n",
    "import turtle\n",
    "t=turtle.Turtle()\n",
    "t.color(\"pink\")\n",
    "t.shape(\"turtle\")\n",
    "t.stamp()\n",
    "move=30\n",
    "#move =360/12\n",
    "for i in range(12):\n",
    "    t.penup()  \n",
    "    t.forward(50)\n",
    "    t.pendown()\n",
    "    t.forward(25)\n",
    "    t.penup()\n",
    "    t.forward(15)\n",
    "    t.pendown()\n",
    "    t.stamp()\n",
    "    t.penup()\n",
    "    t.home()\n",
    "    t.right(move)\n",
    "    move=move+30\n",
    "   # move=move + (360/12)\n",
    "    "
   ]
  },
  {
   "cell_type": "code",
   "execution_count": null,
   "metadata": {},
   "outputs": [],
   "source": [
    "# 태양 그리기 p.196\n",
    "import turtle\n",
    "t=turtle.Turtle()\n",
    "t.color('red','yellow') # 선색, 채우기색 순서\n",
    "t.begin_fill()\n",
    "while True:\n",
    "    t.forward(200)\n",
    "    t.left(170)\n",
    "    if abs(t.pos())<1: #거북이의 좌표의 절댓값이 1보다 작으면 \n",
    "        break\n",
    "t.end_fill()\n",
    "print(t.pos()) # 마지막 위치는 0,0"
   ]
  },
  {
   "cell_type": "code",
   "execution_count": null,
   "metadata": {},
   "outputs": [],
   "source": [
    "#p.196  터틀 그래픽을 이영해 싸인 그래프 그려라\n",
    "import turtle\n",
    "import math\n",
    "t=turtle.Turtle()\n",
    "t.shape(\"turtle\")\n",
    "t.color(\"green\")\n",
    "pos=370\n",
    "t.backward(pos)\n",
    "    "
   ]
  },
  {
   "cell_type": "code",
   "execution_count": null,
   "metadata": {},
   "outputs": [],
   "source": [
    "t.color(\"blue\")\n",
    "for i in range(361):\n",
    "    t_sin=300*math.sin(i*3.14/180) #진폭 300\n",
    "    t.goto(i-pos, t_sin)"
   ]
  },
  {
   "cell_type": "code",
   "execution_count": null,
   "metadata": {},
   "outputs": [],
   "source": [
    "i"
   ]
  },
  {
   "cell_type": "code",
   "execution_count": null,
   "metadata": {},
   "outputs": [],
   "source": []
  }
 ],
 "metadata": {
  "kernelspec": {
   "display_name": "Python 3",
   "language": "python",
   "name": "python3"
  },
  "language_info": {
   "codemirror_mode": {
    "name": "ipython",
    "version": 3
   },
   "file_extension": ".py",
   "mimetype": "text/x-python",
   "name": "python",
   "nbconvert_exporter": "python",
   "pygments_lexer": "ipython3",
   "version": "3.7.6"
  }
 },
 "nbformat": 4,
 "nbformat_minor": 4
}
