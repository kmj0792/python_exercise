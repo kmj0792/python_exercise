{
 "cells": [
  {
   "cell_type": "code",
   "execution_count": 2,
   "metadata": {},
   "outputs": [
    {
     "name": "stdout",
     "output_type": "stream",
     "text": [
      "원의 반지름 : 5\n",
      "면적은 78.5 \n"
     ]
    }
   ],
   "source": [
    "# ch.7 변수 p.209\n",
    "def calculate_area(radius):\n",
    "    result=3.14*radius**2\n",
    "    return (result)\n",
    "r=float(input(\"원의 반지름 : \"))\n",
    "area=calculate_area(r);\n",
    "print(\"면적은 %s \" %area)"
   ]
  },
  {
   "cell_type": "code",
   "execution_count": 3,
   "metadata": {},
   "outputs": [
    {
     "name": "stdout",
     "output_type": "stream",
     "text": [
      "원의 반지름 : 5\n",
      "78.5\n"
     ]
    }
   ],
   "source": [
    "# ch.7 p.210 전역변수\n",
    "def calculate(radius):\n",
    "    global area\n",
    "    area=3.14*radius**2\n",
    "    return\n",
    "area=0\n",
    "r=float(input(\"원의 반지름 : \"))\n",
    "calculate(r)\n",
    "print(area)"
   ]
  },
  {
   "cell_type": "code",
   "execution_count": 5,
   "metadata": {},
   "outputs": [
    {
     "name": "stdout",
     "output_type": "stream",
     "text": [
      "안녕 철수,좋은 아침\n"
     ]
    }
   ],
   "source": [
    "#p.211 디폴트값\n",
    "def greet(name,msg=\"별일없죠?\"): #msg에 디폴트값 넣기\n",
    "    print(\"안녕\",name + ','+msg)\n",
    "\n",
    "greet(\"철수\",\"좋은 아침\")"
   ]
  },
  {
   "cell_type": "code",
   "execution_count": null,
   "metadata": {},
   "outputs": [],
   "source": [
    "# 프랙털 프로그램으로 나무그리기 p.218\n",
    "import turtle\n",
    "def tree(lenth):\n",
    "    if lenth>5:\n",
    "        t.forward(lenth)\n",
    "        t.right(20)\n",
    "        tree(lenth-15)\n",
    "        t.left(40)\n",
    "        tree(lenth-15)\n",
    "        t.right(20)\n",
    "        t.backward(lenth)\n",
    "        \n",
    "t=turtle.Turtle()\n",
    "t.goto(0,-50)\n",
    "t.left(90)\n",
    "t.color(\"green\")\n",
    "t.speed(2)\n",
    "tree(100)"
   ]
  },
  {
   "cell_type": "code",
   "execution_count": null,
   "metadata": {},
   "outputs": [],
   "source": [
    "# 미로찾기 p.221\n",
    "import turtle\n",
    "import random\n",
    "\n",
    "def draw_maze(x,y):\n",
    "    for i in range(2):\n",
    "        t.penup()\n",
    "        if i==1:\n",
    "            t.goto(x+100,y+100)\n",
    "        else:\n",
    "            t.goto(x,y)\n",
    "        t.pendown()\n",
    "        t.forward(300)\n",
    "        t.right(90)\n",
    "        t.forward(300)\n",
    "        t.left(90)\n",
    "        t.forward(300)\n",
    "        \n",
    "def turn_left():\n",
    "    t.left(10)\n",
    "    t.forward(10)\n",
    "    \n",
    "def turn_right():\n",
    "    t.right(10)\n",
    "    t.forward(10)\n",
    "    \n",
    "t=turtle.Turtle()\n",
    "screen=turtle.Screen()\n",
    "t.shape(\"turtle\")\n",
    "t.speed(0)\n",
    "\n",
    "draw_maze(-300,200)\n",
    "screen.onkey(turn_left,\"Left\")\n",
    "screen.onkey(turn_right,\"Right\")\n",
    "\n",
    "t.penup()\n",
    "t.goto(-300,250)\n",
    "t.speed(1)\n",
    "t.pendown()\n",
    "screen.listen()\n",
    "screen.mainloop()"
   ]
  },
  {
   "cell_type": "code",
   "execution_count": null,
   "metadata": {},
   "outputs": [],
   "source": []
  }
 ],
 "metadata": {
  "kernelspec": {
   "display_name": "Python 3",
   "language": "python",
   "name": "python3"
  },
  "language_info": {
   "codemirror_mode": {
    "name": "ipython",
    "version": 3
   },
   "file_extension": ".py",
   "mimetype": "text/x-python",
   "name": "python",
   "nbconvert_exporter": "python",
   "pygments_lexer": "ipython3",
   "version": "3.7.6"
  }
 },
 "nbformat": 4,
 "nbformat_minor": 4
}
