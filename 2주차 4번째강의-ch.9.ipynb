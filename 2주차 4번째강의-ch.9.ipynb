{
 "cells": [
  {
   "cell_type": "code",
   "execution_count": 1,
   "metadata": {},
   "outputs": [
    {
     "name": "stdout",
     "output_type": "stream",
     "text": [
      "['아이언맨', '닥터스트래인지', '토르', '스칼렛위치', '헐크']\n"
     ]
    }
   ],
   "source": [
    "#ch.9 리스트 와 딕셔너리 p.252~\n",
    "heroes=[\"아이언맨\",\"닥터스트래인지\",\"토르\",\"스칼렛위치\",\"헐크\"]\n",
    "print(heroes)"
   ]
  },
  {
   "cell_type": "code",
   "execution_count": 2,
   "metadata": {},
   "outputs": [
    {
     "name": "stdout",
     "output_type": "stream",
     "text": [
      "[]\n"
     ]
    }
   ],
   "source": [
    "heroes=[]\n",
    "print(heroes)"
   ]
  },
  {
   "cell_type": "code",
   "execution_count": 4,
   "metadata": {},
   "outputs": [
    {
     "name": "stdout",
     "output_type": "stream",
     "text": [
      "['아이언맨', '헐크']\n"
     ]
    }
   ],
   "source": [
    "# 빈 리스트에 아이템 추가 p.258\n",
    "heroes=[]\n",
    "heroes.append(\"아이언맨\")\n",
    "heroes.append(\"헐크\")\n",
    "print(heroes)"
   ]
  },
  {
   "cell_type": "code",
   "execution_count": 5,
   "metadata": {},
   "outputs": [
    {
     "name": "stdout",
     "output_type": "stream",
     "text": [
      "A\n"
     ]
    }
   ],
   "source": [
    "letters=['A','B','C','D','E','F']\n",
    "print(letters[0])"
   ]
  },
  {
   "cell_type": "code",
   "execution_count": 8,
   "metadata": {},
   "outputs": [
    {
     "name": "stdout",
     "output_type": "stream",
     "text": [
      "['B', 'C']\n"
     ]
    }
   ],
   "source": [
    "#ch.9 슬라이싱 p.257\n",
    "#slicing은 list에서 한 번에 여러개의 항목을 추출하는 것이다.\n",
    "print(letters[1:3]) #리스트 0~ 리스트2 까지 즉 앞에서 부터 3개 값 가져온다"
   ]
  },
  {
   "cell_type": "code",
   "execution_count": 7,
   "metadata": {},
   "outputs": [
    {
     "name": "stdout",
     "output_type": "stream",
     "text": [
      "['D', 'E', 'F']\n"
     ]
    }
   ],
   "source": [
    "print(letters[3:])# 뒤에서부터 세개값"
   ]
  },
  {
   "cell_type": "code",
   "execution_count": null,
   "metadata": {},
   "outputs": [],
   "source": [
    "print(letters[:]) #모든 아이템 프린트"
   ]
  },
  {
   "cell_type": "code",
   "execution_count": null,
   "metadata": {},
   "outputs": [],
   "source": [
    "print(letters) # 모든 아이템 프린트"
   ]
  },
  {
   "cell_type": "code",
   "execution_count": 10,
   "metadata": {},
   "outputs": [
    {
     "name": "stdout",
     "output_type": "stream",
     "text": [
      "['아이언맨', '헐크', '스칼렛', '닥터스트렌지', '토르']\n"
     ]
    }
   ],
   "source": [
    "heroes=[\"아이언맨\",\"헐크\",\"스칼렛\",\"닥터스트렌지\",\"토르\"]\n",
    "print(heroes)"
   ]
  },
  {
   "cell_type": "code",
   "execution_count": 11,
   "metadata": {},
   "outputs": [
    {
     "name": "stdout",
     "output_type": "stream",
     "text": [
      "['아이언맨', '헐크', '스파이더맨', '닥터스트렌지', '토르']\n"
     ]
    }
   ],
   "source": [
    "# ch. 9 항목변경하기 p,258\n",
    "heroes[2]=\"스파이더맨\"\n",
    "print(heroes)"
   ]
  },
  {
   "cell_type": "code",
   "execution_count": 12,
   "metadata": {},
   "outputs": [
    {
     "name": "stdout",
     "output_type": "stream",
     "text": [
      "['아이언맨', '헐크', '스파이더맨', '닥터스트렌지', '토르', '스칼랫']\n"
     ]
    }
   ],
   "source": [
    "heroes.append(\"스칼랫\")\n",
    "print(heroes)"
   ]
  },
  {
   "cell_type": "code",
   "execution_count": 13,
   "metadata": {},
   "outputs": [
    {
     "name": "stdout",
     "output_type": "stream",
     "text": [
      "['아이언맨', '앤트맨', '헐크', '스파이더맨', '닥터스트렌지', '토르', '스칼랫']\n"
     ]
    }
   ],
   "source": [
    "heroes.insert(1,\"앤트맨\")\n",
    "print(heroes)"
   ]
  },
  {
   "cell_type": "code",
   "execution_count": 14,
   "metadata": {},
   "outputs": [
    {
     "name": "stdout",
     "output_type": "stream",
     "text": [
      "['아이언맨', '앤트맨', '헐크', '스파이더맨', '닥터스트렌지', '스칼랫']\n"
     ]
    }
   ],
   "source": [
    "#항목 삭제하기 p.259\n",
    "heroes.remove(\"토르\") #해당 리스트값 삭제\n",
    "print(heroes)"
   ]
  },
  {
   "cell_type": "code",
   "execution_count": 15,
   "metadata": {},
   "outputs": [
    {
     "name": "stdout",
     "output_type": "stream",
     "text": [
      "['아이언맨', '앤트맨', '헐크', '스파이더맨', '닥터스트렌지']\n"
     ]
    }
   ],
   "source": [
    "heroes.pop() #리스트의 마지막 값 삭제\n",
    "print(heroes)"
   ]
  },
  {
   "cell_type": "code",
   "execution_count": 16,
   "metadata": {},
   "outputs": [
    {
     "name": "stdout",
     "output_type": "stream",
     "text": [
      "['앤트맨', '헐크', '스파이더맨', '닥터스트렌지']\n"
     ]
    }
   ],
   "source": [
    "del heroes[0] # 해당 인덱스 값의 리스트값 삭제\n",
    "print(heroes)"
   ]
  },
  {
   "cell_type": "code",
   "execution_count": 17,
   "metadata": {},
   "outputs": [
    {
     "name": "stdout",
     "output_type": "stream",
     "text": [
      "1\n"
     ]
    }
   ],
   "source": [
    "#리스트 탐색하기 p.261\n",
    "print(heroes.index(\"헐크\")) #해당 값의 인덱스 번호 찾기"
   ]
  },
  {
   "cell_type": "code",
   "execution_count": 18,
   "metadata": {},
   "outputs": [
    {
     "name": "stdout",
     "output_type": "stream",
     "text": [
      "1\n"
     ]
    }
   ],
   "source": [
    "if \"헐크\" in heroes:\n",
    "    print(heroes.index(\"헐크\"))"
   ]
  },
  {
   "cell_type": "code",
   "execution_count": 23,
   "metadata": {},
   "outputs": [
    {
     "name": "stdout",
     "output_type": "stream",
     "text": [
      "아이언맨\n",
      "토르\n",
      "헐크\n",
      "스칼렛\n"
     ]
    }
   ],
   "source": [
    "# 리스트 한번씩 방문하기 p.261\n",
    "heroes=[\"아이언맨\",\"토르\",\"헐크\",\"스칼렛\"]\n",
    "for hero in heroes:\n",
    "    print(hero)"
   ]
  },
  {
   "cell_type": "code",
   "execution_count": 25,
   "metadata": {},
   "outputs": [
    {
     "name": "stdout",
     "output_type": "stream",
     "text": [
      "['스칼렛', '아이언맨', '토르', '헐크']\n",
      "['스칼렛', '아이언맨', '토르', '헐크']\n"
     ]
    }
   ],
   "source": [
    "#리스트 정렬하기 p.262\n",
    "\n",
    "heroes.sort() #알파벳/ 한글 순서로 정렬\n",
    "print(heroes)\n",
    "newlist=sorted(heroes)\n",
    "print(newlist)"
   ]
  },
  {
   "cell_type": "code",
   "execution_count": null,
   "metadata": {},
   "outputs": [],
   "source": [
    "# 오륜그리기 p.265\n",
    "\n",
    "import turtle\n",
    "def draw_olympic_symbol():\n",
    "    position=[[0,0,\"blue\"],[-120,0,\"purple\"],[60,60,\"red\"],[-60,60,\"yellow\"],[-180,60,\"green\"]]\n",
    "    for x,y,c in position:\n",
    "        t.penup()\n",
    "        t.goto(x,y)\n",
    "        t.pendown()\n",
    "        t.color(c,c)\n",
    "        t.begin_fill()\n",
    "        t.circle(50)\n",
    "        t.end_fill()\n",
    "t=turtle.Turtle()\n",
    "draw_olympic_symbol()"
   ]
  },
  {
   "cell_type": "code",
   "execution_count": null,
   "metadata": {},
   "outputs": [],
   "source": []
  }
 ],
 "metadata": {
  "kernelspec": {
   "display_name": "Python 3",
   "language": "python",
   "name": "python3"
  },
  "language_info": {
   "codemirror_mode": {
    "name": "ipython",
    "version": 3
   },
   "file_extension": ".py",
   "mimetype": "text/x-python",
   "name": "python",
   "nbconvert_exporter": "python",
   "pygments_lexer": "ipython3",
   "version": "3.7.6"
  }
 },
 "nbformat": 4,
 "nbformat_minor": 4
}
